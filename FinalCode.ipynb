{
  "nbformat": 4,
  "nbformat_minor": 0,
  "metadata": {
    "colab": {
      "provenance": [],
      "gpuType": "T4",
      "authorship_tag": "ABX9TyPpCreVhRxb0q/tiMxPMFEC",
      "include_colab_link": true
    },
    "kernelspec": {
      "name": "python3",
      "display_name": "Python 3"
    },
    "language_info": {
      "name": "python"
    },
    "accelerator": "GPU"
  },
  "cells": [
    {
      "cell_type": "markdown",
      "metadata": {
        "id": "view-in-github",
        "colab_type": "text"
      },
      "source": [
        "<a href=\"https://colab.research.google.com/github/adenurchalisa/DeepLearning_finalproject/blob/main/FinalCode.ipynb\" target=\"_parent\"><img src=\"https://colab.research.google.com/assets/colab-badge.svg\" alt=\"Open In Colab\"/></a>"
      ]
    },
    {
      "cell_type": "code",
      "execution_count": 2,
      "metadata": {
        "colab": {
          "base_uri": "https://localhost:8080/"
        },
        "id": "okotbx12K9uV",
        "outputId": "b65ef2de-3ae7-4ce3-87bf-ba6434ea3d19"
      },
      "outputs": [
        {
          "output_type": "stream",
          "name": "stdout",
          "text": [
            "\u001b[2K   \u001b[90m━━━━━━━━━━━━━━━━━━━━━━━━━━━━━━━━━━━━━━━━\u001b[0m \u001b[32m1.0/1.0 MB\u001b[0m \u001b[31m29.1 MB/s\u001b[0m eta \u001b[36m0:00:00\u001b[0m\n",
            "\u001b[2K   \u001b[90m━━━━━━━━━━━━━━━━━━━━━━━━━━━━━━━━━━━━━━━━\u001b[0m \u001b[32m363.4/363.4 MB\u001b[0m \u001b[31m4.8 MB/s\u001b[0m eta \u001b[36m0:00:00\u001b[0m\n",
            "\u001b[2K   \u001b[90m━━━━━━━━━━━━━━━━━━━━━━━━━━━━━━━━━━━━━━━━\u001b[0m \u001b[32m13.8/13.8 MB\u001b[0m \u001b[31m89.9 MB/s\u001b[0m eta \u001b[36m0:00:00\u001b[0m\n",
            "\u001b[2K   \u001b[90m━━━━━━━━━━━━━━━━━━━━━━━━━━━━━━━━━━━━━━━━\u001b[0m \u001b[32m24.6/24.6 MB\u001b[0m \u001b[31m91.2 MB/s\u001b[0m eta \u001b[36m0:00:00\u001b[0m\n",
            "\u001b[2K   \u001b[90m━━━━━━━━━━━━━━━━━━━━━━━━━━━━━━━━━━━━━━━━\u001b[0m \u001b[32m883.7/883.7 kB\u001b[0m \u001b[31m53.7 MB/s\u001b[0m eta \u001b[36m0:00:00\u001b[0m\n",
            "\u001b[2K   \u001b[90m━━━━━━━━━━━━━━━━━━━━━━━━━━━━━━━━━━━━━━━━\u001b[0m \u001b[32m664.8/664.8 MB\u001b[0m \u001b[31m2.1 MB/s\u001b[0m eta \u001b[36m0:00:00\u001b[0m\n",
            "\u001b[2K   \u001b[90m━━━━━━━━━━━━━━━━━━━━━━━━━━━━━━━━━━━━━━━━\u001b[0m \u001b[32m211.5/211.5 MB\u001b[0m \u001b[31m5.5 MB/s\u001b[0m eta \u001b[36m0:00:00\u001b[0m\n",
            "\u001b[2K   \u001b[90m━━━━━━━━━━━━━━━━━━━━━━━━━━━━━━━━━━━━━━━━\u001b[0m \u001b[32m56.3/56.3 MB\u001b[0m \u001b[31m12.9 MB/s\u001b[0m eta \u001b[36m0:00:00\u001b[0m\n",
            "\u001b[2K   \u001b[90m━━━━━━━━━━━━━━━━━━━━━━━━━━━━━━━━━━━━━━━━\u001b[0m \u001b[32m127.9/127.9 MB\u001b[0m \u001b[31m7.9 MB/s\u001b[0m eta \u001b[36m0:00:00\u001b[0m\n",
            "\u001b[2K   \u001b[90m━━━━━━━━━━━━━━━━━━━━━━━━━━━━━━━━━━━━━━━━\u001b[0m \u001b[32m207.5/207.5 MB\u001b[0m \u001b[31m5.6 MB/s\u001b[0m eta \u001b[36m0:00:00\u001b[0m\n",
            "\u001b[2K   \u001b[90m━━━━━━━━━━━━━━━━━━━━━━━━━━━━━━━━━━━━━━━━\u001b[0m \u001b[32m21.1/21.1 MB\u001b[0m \u001b[31m106.8 MB/s\u001b[0m eta \u001b[36m0:00:00\u001b[0m\n",
            "\u001b[2K   \u001b[90m━━━━━━━━━━━━━━━━━━━━━━━━━━━━━━━━━━━━━━━━\u001b[0m \u001b[32m395.9/395.9 kB\u001b[0m \u001b[31m11.9 MB/s\u001b[0m eta \u001b[36m0:00:00\u001b[0m\n",
            "\u001b[2K   \u001b[90m━━━━━━━━━━━━━━━━━━━━━━━━━━━━━━━━━━━━━━━━\u001b[0m \u001b[32m242.7/242.7 kB\u001b[0m \u001b[31m23.6 MB/s\u001b[0m eta \u001b[36m0:00:00\u001b[0m\n",
            "\u001b[?25h"
          ]
        }
      ],
      "source": [
        "!pip install -q ultralytics\n",
        "!pip install -q optuna\n",
        "!pip install -q tensorboard"
      ]
    },
    {
      "cell_type": "code",
      "source": [
        "import os\n",
        "import numpy as np\n",
        "import matplotlib.pyplot as plt\n",
        "import torch\n",
        "import pandas as pd\n",
        "from PIL import Image\n",
        "import cv2\n",
        "from tqdm.auto import tqdm\n",
        "import random\n",
        "from ultralytics import YOLO\n",
        "import shutil\n",
        "import optuna\n",
        "from optuna.visualization import plot_optimization_history, plot_param_importances\n",
        "from sklearn.metrics import confusion_matrix, classification_report\n",
        "import seaborn as sns\n",
        "from google.colab import drive"
      ],
      "metadata": {
        "colab": {
          "base_uri": "https://localhost:8080/"
        },
        "id": "L0SoWaiZLPhe",
        "outputId": "f4a943bd-db0d-4a87-ddc3-e2d46f43e2b2"
      },
      "execution_count": 3,
      "outputs": [
        {
          "output_type": "stream",
          "name": "stdout",
          "text": [
            "Creating new Ultralytics Settings v0.0.6 file ✅ \n",
            "View Ultralytics Settings with 'yolo settings' or at '/root/.config/Ultralytics/settings.json'\n",
            "Update Settings with 'yolo settings key=value', i.e. 'yolo settings runs_dir=path/to/dir'. For help see https://docs.ultralytics.com/quickstart/#ultralytics-settings.\n"
          ]
        }
      ]
    },
    {
      "cell_type": "code",
      "source": [
        "# Cek GPU tersedia atau tidak\n",
        "print(\"Checking GPU availability...\")\n",
        "if torch.cuda.is_available():\n",
        "    print(f\"GPU available: {torch.cuda.get_device_name(0)}\")\n",
        "    DEVICE = 0  # Menggunakan GPU pertama\n",
        "else:\n",
        "    print(\"GPU not available, falling back to CPU\")\n",
        "    DEVICE = 'cpu'"
      ],
      "metadata": {
        "colab": {
          "base_uri": "https://localhost:8080/"
        },
        "id": "QvZ-OFLGLhk6",
        "outputId": "f50333f2-c9a9-4784-deb6-fde003ecf873"
      },
      "execution_count": 4,
      "outputs": [
        {
          "output_type": "stream",
          "name": "stdout",
          "text": [
            "Checking GPU availability...\n",
            "GPU available: Tesla T4\n"
          ]
        }
      ]
    },
    {
      "cell_type": "code",
      "source": [
        "# Mount Google Drive\n",
        "drive.mount('/content/drive', force_remount=True)"
      ],
      "metadata": {
        "colab": {
          "base_uri": "https://localhost:8080/"
        },
        "id": "GjuK_N_qLvA7",
        "outputId": "59c2b67e-7410-42d7-a903-72c6c17fc8b0"
      },
      "execution_count": 5,
      "outputs": [
        {
          "output_type": "stream",
          "name": "stdout",
          "text": [
            "Mounted at /content/drive\n"
          ]
        }
      ]
    },
    {
      "cell_type": "code",
      "source": [
        "# Path ke dataset dan folder penyimpanan dengan nama yang berbeda untuk menghindari konflik\n",
        "dataset_dir = \"/content/drive/MyDrive/deep learning/dataset_augmented-20250624T035320Z-1-001/dataset_augmented\"\n",
        "model_dir = \"/content/drive/MyDrive/deep learning/models\"\n",
        "yolo_dataset_dir = \"/content/custom_yolo_dataset_processed\"  # Nama folder yang berbeda\n",
        "\n",
        "# Pastikan direktori model ada\n",
        "if not os.path.exists(model_dir):\n",
        "    os.makedirs(model_dir)"
      ],
      "metadata": {
        "id": "nn0zdYNAL8o_"
      },
      "execution_count": 14,
      "outputs": []
    },
    {
      "cell_type": "code",
      "source": [
        "# Kategori dan parameter global\n",
        "CATEGORIES = [\"sangat_kotor\", \"sedang\", \"sangat_bersih\"]\n",
        "IMG_SIZE = 640  # Ukuran optimal untuk GPU\n",
        "BATCH_SIZE = 16\n",
        "EPOCHS = 30\n",
        "SEED = 42\n",
        "\n",
        "# Set random seed untuk reproducibility\n",
        "def seed_everything(seed):\n",
        "    random.seed(seed)\n",
        "    os.environ['PYTHONHASHSEED'] = str(seed)\n",
        "    np.random.seed(seed)\n",
        "    torch.manual_seed(seed)\n",
        "    if torch.cuda.is_available():\n",
        "        torch.cuda.manual_seed(seed)\n",
        "        torch.backends.cudnn.deterministic = True\n",
        "\n",
        "seed_everything(SEED)"
      ],
      "metadata": {
        "id": "dZq-f7pwMWls"
      },
      "execution_count": 15,
      "outputs": []
    },
    {
      "cell_type": "code",
      "source": [
        "# Persiapan dataset untuk YOLO - VERSI TERBARU dengan path absolut\n",
        "def prepare_yolo_dataset(dataset_dir, output_dir):\n",
        "    \"\"\"\n",
        "    Menyiapkan dataset dalam format yang cocok untuk YOLOv5\n",
        "    \"\"\"\n",
        "    # Hapus output_dir jika sudah ada untuk memastikan mulai bersih\n",
        "    if os.path.exists(output_dir):\n",
        "        print(f\"Removing existing {output_dir}\")\n",
        "        shutil.rmtree(output_dir)\n",
        "\n",
        "    # Buat struktur folder\n",
        "    os.makedirs(f\"{output_dir}/images/train\", exist_ok=True)\n",
        "    os.makedirs(f\"{output_dir}/images/val\", exist_ok=True)\n",
        "    os.makedirs(f\"{output_dir}/labels/train\", exist_ok=True)\n",
        "    os.makedirs(f\"{output_dir}/labels/val\", exist_ok=True)\n",
        "\n",
        "    # Dataset split info\n",
        "    train_data = []\n",
        "    val_data = []\n",
        "\n",
        "    # Class mapping\n",
        "    class_to_idx = {cat: i for i, cat in enumerate(CATEGORIES)}\n",
        "\n",
        "    # Get full absolute paths\n",
        "    abs_output_dir = os.path.abspath(output_dir)\n",
        "    abs_train_dir = os.path.join(abs_output_dir, \"images\", \"train\")\n",
        "    abs_val_dir = os.path.join(abs_output_dir, \"images\", \"val\")\n",
        "\n",
        "    # Create dataset.yaml dengan jalur absolut\n",
        "    with open(f\"{output_dir}/custom_dataset.yaml\", \"w\") as f:\n",
        "        f.write(f\"path: {abs_output_dir}\\n\")\n",
        "        f.write(f\"train: {abs_train_dir}\\n\")  # Jalur absolut ke folder train\n",
        "        f.write(f\"val: {abs_val_dir}\\n\")  # Jalur absolut ke folder val\n",
        "        f.write(f\"nc: {len(CATEGORIES)}\\n\")\n",
        "        f.write(f\"names: {CATEGORIES}\\n\")\n",
        "\n",
        "    for category in CATEGORIES:\n",
        "        category_dir = os.path.join(dataset_dir, category)\n",
        "        if not os.path.exists(category_dir):\n",
        "            print(f\"Warning: Category directory {category_dir} does not exist\")\n",
        "            continue\n",
        "\n",
        "        images = [f for f in os.listdir(category_dir) if f.lower().endswith(('.jpg', '.jpeg', '.png'))]\n",
        "\n",
        "        # Shuffle images\n",
        "        random.shuffle(images)\n",
        "\n",
        "        # Split into train/val (80/20)\n",
        "        split_idx = int(len(images) * 0.8)\n",
        "        train_images = images[:split_idx]\n",
        "        val_images = images[split_idx:]\n",
        "\n",
        "        print(f\"Category {category}: {len(train_images)} training, {len(val_images)} validation\")\n",
        "\n",
        "        # Process training images\n",
        "        for img_name in train_images:\n",
        "            src_path = os.path.join(category_dir, img_name)\n",
        "            dst_path = os.path.join(output_dir, \"images\", \"train\", img_name)\n",
        "            shutil.copy(src_path, dst_path)\n",
        "\n",
        "            # Create label file (for classification with YOLO)\n",
        "            label_path = os.path.join(output_dir, \"labels\", \"train\", f\"{os.path.splitext(img_name)[0]}.txt\")\n",
        "            with open(label_path, \"w\") as f:\n",
        "                f.write(f\"{class_to_idx[category]}\")\n",
        "\n",
        "            train_data.append((dst_path, class_to_idx[category]))\n",
        "\n",
        "        # Process validation images\n",
        "        for img_name in val_images:\n",
        "            src_path = os.path.join(category_dir, img_name)\n",
        "            dst_path = os.path.join(output_dir, \"images\", \"val\", img_name)\n",
        "            shutil.copy(src_path, dst_path)\n",
        "\n",
        "            # Create label file\n",
        "            label_path = os.path.join(output_dir, \"labels\", \"val\", f\"{os.path.splitext(img_name)[0]}.txt\")\n",
        "            with open(label_path, \"w\") as f:\n",
        "                f.write(f\"{class_to_idx[category]}\")\n",
        "\n",
        "            val_data.append((dst_path, class_to_idx[category]))\n",
        "\n",
        "    print(f\"Prepared {len(train_data)} training and {len(val_data)} validation images\")\n",
        "\n",
        "    # Verifikasi dataset\n",
        "    print(\"\\nVerifikasi YOLO dataset:\")\n",
        "    print(f\"Dataset YAML exists: {os.path.exists(os.path.join(output_dir, 'custom_dataset.yaml'))}\")\n",
        "    print(f\"Train images directory exists: {os.path.exists(os.path.join(output_dir, 'images', 'train'))}\")\n",
        "    print(f\"Number of training images: {len(os.listdir(os.path.join(output_dir, 'images', 'train')))}\")\n",
        "    print(f\"Number of validation images: {len(os.listdir(os.path.join(output_dir, 'images', 'val')))}\")\n",
        "\n",
        "    # Print isi file dataset.yaml\n",
        "    print(\"\\nIsi file custom_dataset.yaml:\")\n",
        "    with open(os.path.join(output_dir, \"custom_dataset.yaml\"), \"r\") as f:\n",
        "        print(f.read())\n",
        "\n",
        "    return train_data, val_data, os.path.join(output_dir, \"custom_dataset.yaml\")\n"
      ],
      "metadata": {
        "id": "sS0DnGhXMZrw"
      },
      "execution_count": 16,
      "outputs": []
    },
    {
      "cell_type": "code",
      "source": [
        "# Proses dataset ke format YOLO\n",
        "print(\"Processing dataset to YOLO format...\")\n",
        "train_data, val_data, dataset_yaml_path = prepare_yolo_dataset(dataset_dir, yolo_dataset_dir)"
      ],
      "metadata": {
        "colab": {
          "base_uri": "https://localhost:8080/"
        },
        "id": "bFgPXd3lHg_h",
        "outputId": "63cab637-1096-4719-cae7-8d8fd0106a07"
      },
      "execution_count": 17,
      "outputs": [
        {
          "output_type": "stream",
          "name": "stdout",
          "text": [
            "Processing dataset to YOLO format...\n",
            "Category sangat_kotor: 252 training, 63 validation\n",
            "Category sedang: 256 training, 65 validation\n",
            "Category sangat_bersih: 248 training, 62 validation\n",
            "Prepared 756 training and 190 validation images\n",
            "\n",
            "Verifikasi YOLO dataset:\n",
            "Dataset YAML exists: True\n",
            "Train images directory exists: True\n",
            "Number of training images: 756\n",
            "Number of validation images: 190\n",
            "\n",
            "Isi file custom_dataset.yaml:\n",
            "path: /content/custom_yolo_dataset_processed\n",
            "train: /content/custom_yolo_dataset_processed/images/train\n",
            "val: /content/custom_yolo_dataset_processed/images/val\n",
            "nc: 3\n",
            "names: ['sangat_kotor', 'sedang', 'sangat_bersih']\n",
            "\n"
          ]
        }
      ]
    },
    {
      "cell_type": "code",
      "source": [
        "# Hyperparameter tuning untuk model klasifikasi dengan dataset yang sudah dikonfigurasi\n",
        "def optimize_classification_model(n_trials=10, dataset_yaml=None):\n",
        "    print(\"\\nMemulai hyperparameter tuning untuk model klasifikasi...\")\n",
        "\n",
        "    if dataset_yaml is None:\n",
        "        print(\"ERROR: Dataset YAML path is not provided.\")\n",
        "        return {}\n",
        "\n",
        "    # Definisikan fungsi objective untuk Optuna\n",
        "    def objective(trial):\n",
        "        # Parameter yang akan dioptimalkan\n",
        "        learning_rate = trial.suggest_float(\"learning_rate\", 1e-4, 1e-2, log=True)\n",
        "        batch_size = trial.suggest_categorical(\"batch_size\", [8, 16, 32])\n",
        "        img_size = trial.suggest_categorical(\"img_size\", [384, 512, 640])\n",
        "        dropout_rate = trial.suggest_float(\"dropout_rate\", 0.2, 0.5)\n",
        "        weight_decay = trial.suggest_float(\"weight_decay\", 1e-5, 1e-3, log=True)\n",
        "\n",
        "        # Load pre-trained YOLO model\n",
        "        model = YOLO('yolov5s.pt')\n",
        "\n",
        "        # Configure model for classification\n",
        "        model_config = {\n",
        "            'task': 'classify',\n",
        "            'data': dataset_yaml,  # Gunakan path yang diberikan\n",
        "            'epochs': 5,  # Fewer epochs for tuning\n",
        "            'batch': batch_size,\n",
        "            'imgsz': img_size,\n",
        "            'patience': 3,\n",
        "            'lr0': learning_rate,\n",
        "            'optimizer': 'Adam',\n",
        "            'weight_decay': weight_decay,\n",
        "            'dropout': dropout_rate,\n",
        "            'device': DEVICE,  # Menggunakan GPU jika tersedia\n",
        "            'project': model_dir,\n",
        "            'name': f'tune_trial_{trial.number}',\n",
        "            'exist_ok': True\n",
        "        }\n",
        "\n",
        "        # Train model\n",
        "        try:\n",
        "            results = model.train(**model_config)\n",
        "\n",
        "            # Get validation accuracy\n",
        "            val_accuracy = results.results_dict.get('metrics/accuracy_top1', 0)\n",
        "            return val_accuracy\n",
        "        except Exception as e:\n",
        "            print(f\"Error during trial {trial.number}: {e}\")\n",
        "            return 0  # Return 0 if training fails\n",
        "\n",
        "    # Create Optuna study\n",
        "    study = optuna.create_study(direction=\"maximize\")\n",
        "    study.optimize(objective, n_trials=n_trials)\n",
        "\n",
        "    # Get best parameters\n",
        "    best_params = study.best_params\n",
        "    best_accuracy = study.best_value\n",
        "\n",
        "    print(f\"\\nBest hyperparameters:\")\n",
        "    for param, value in best_params.items():\n",
        "        print(f\"  {param}: {value}\")\n",
        "    print(f\"Best validation accuracy: {best_accuracy:.4f}\")\n",
        "\n",
        "    # Visualize optimization history\n",
        "    try:\n",
        "        plt.figure(figsize=(10, 6))\n",
        "        plot_optimization_history(study)\n",
        "        plt.title(\"Optimization History\")\n",
        "        plt.tight_layout()\n",
        "        plt.savefig(os.path.join(model_dir, 'optimization_history.png'))\n",
        "        plt.show()\n",
        "\n",
        "        plt.figure(figsize=(10, 6))\n",
        "        plot_param_importances(study)\n",
        "        plt.title(\"Hyperparameter Importance\")\n",
        "        plt.tight_layout()\n",
        "        plt.savefig(os.path.join(model_dir, 'param_importances.png'))\n",
        "        plt.show()\n",
        "    except Exception as e:\n",
        "        print(f\"Could not visualize optimization results: {e}\")\n",
        "\n",
        "    return best_params\n"
      ],
      "metadata": {
        "id": "SdSxkZy9MhGC"
      },
      "execution_count": 18,
      "outputs": []
    },
    {
      "cell_type": "code",
      "source": [
        "# Training model klasifikasi berbasis YOLO dengan parameter terbaik\n",
        "def train_classification_model(best_params=None, dataset_yaml=None):\n",
        "    if dataset_yaml is None:\n",
        "        print(\"ERROR: Dataset YAML path is not provided.\")\n",
        "        return None, None\n",
        "\n",
        "    # Load a pre-trained YOLO model\n",
        "    model = YOLO('yolov5s.pt')\n",
        "\n",
        "    # Default parameters\n",
        "    if best_params is None or len(best_params) == 0:\n",
        "        best_params = {\n",
        "            'learning_rate': 0.001,\n",
        "            'batch_size': 16,\n",
        "            'img_size': 640,\n",
        "            'dropout_rate': 0.3,\n",
        "            'weight_decay': 5e-4\n",
        "        }\n",
        "        print(\"\\nMenggunakan parameter default:\")\n",
        "    else:\n",
        "        print(\"\\nMenggunakan parameter hasil tuning:\")\n",
        "\n",
        "    for param, value in best_params.items():\n",
        "        print(f\"  {param}: {value}\")\n",
        "\n",
        "    # Configure model for classification\n",
        "    model_config = {\n",
        "        'task': 'classify',\n",
        "        'data': dataset_yaml,  # Gunakan path yang diberikan\n",
        "        'epochs': EPOCHS,\n",
        "        'batch': best_params.get('batch_size', 16),\n",
        "        'imgsz': best_params.get('img_size', 640),\n",
        "        'patience': 10,\n",
        "        'lr0': best_params.get('learning_rate', 0.001),\n",
        "        'weight_decay': best_params.get('weight_decay', 5e-4),\n",
        "        'dropout': best_params.get('dropout_rate', 0.3),\n",
        "        'optimizer': 'Adam',\n",
        "        'device': DEVICE,  # Menggunakan GPU jika tersedia\n",
        "        'project': model_dir,\n",
        "        'name': 'classification_model',\n",
        "        'exist_ok': True\n",
        "    }\n",
        "\n",
        "    # Start training\n",
        "    print(\"\\nTraining classification model dengan parameter optimal...\")\n",
        "    results = model.train(**model_config)\n",
        "\n",
        "    # Print final metrics\n",
        "    metrics = results.results_dict\n",
        "    print(\"\\nClassification Model Metrics:\")\n",
        "    for k, v in metrics.items():\n",
        "        if k.startswith('metrics/'):\n",
        "            print(f\"  {k}: {v}\")\n",
        "\n",
        "    # Save the model\n",
        "    try:\n",
        "        model.export(format='onnx')\n",
        "    except Exception as e:\n",
        "        print(f\"Error exporting model: {e}\")\n",
        "\n",
        "    classification_model_path = os.path.join(model_dir, 'classification_model', 'weights', 'best.pt')\n",
        "    print(f\"\\nClassification model saved to: {classification_model_path}\")\n",
        "\n",
        "    return model, classification_model_path\n"
      ],
      "metadata": {
        "id": "_yOzkdawMpe2"
      },
      "execution_count": 19,
      "outputs": []
    },
    {
      "cell_type": "code",
      "source": [
        "# Get pre-trained model for detection\n",
        "def get_detection_model():\n",
        "    print(\"\\nUsing pre-trained YOLOv5 model for object detection...\")\n",
        "    model = YOLO('yolov5s.pt')\n",
        "    return model, 'yolov5s.pt'"
      ],
      "metadata": {
        "id": "XC3xtzvhMt-D"
      },
      "execution_count": 20,
      "outputs": []
    },
    {
      "cell_type": "code",
      "source": [
        "# Fungsi untuk evaluasi model klasifikasi\n",
        "def evaluate_classification_model(model, data_dir):\n",
        "    print(\"\\nEvaluating classification model...\")\n",
        "    # Create confusion matrix\n",
        "    val_dir = os.path.join(data_dir, \"images/val\")\n",
        "    val_images = [os.path.join(val_dir, f) for f in os.listdir(val_dir)\n",
        "                 if f.lower().endswith(('.jpg', '.jpeg', '.png'))]\n",
        "\n",
        "    # Get true labels\n",
        "    true_labels = []\n",
        "    for img_path in val_images:\n",
        "        img_name = os.path.basename(img_path)\n",
        "        label_path = os.path.join(data_dir, \"labels/val\", f\"{os.path.splitext(img_name)[0]}.txt\")\n",
        "        with open(label_path, \"r\") as f:\n",
        "            true_labels.append(int(f.read().strip()))\n",
        "\n",
        "    # Get predictions - GPU dapat memproses lebih banyak gambar\n",
        "    predictions = []\n",
        "    confidences = []\n",
        "\n",
        "    for img_path in tqdm(val_images, desc=\"Predicting\"):\n",
        "        results = model.predict(img_path, verbose=False)[0]\n",
        "        pred_class = results.probs.top1\n",
        "        pred_conf = results.probs.top1conf.item()\n",
        "\n",
        "        predictions.append(pred_class)\n",
        "        confidences.append(pred_conf)\n",
        "\n",
        "    # Confusion matrix\n",
        "    cm = confusion_matrix(true_labels, predictions)\n",
        "    plt.figure(figsize=(10, 8))\n",
        "    sns.heatmap(cm, annot=True, fmt='d', cmap='Blues', xticklabels=CATEGORIES, yticklabels=CATEGORIES)\n",
        "    plt.xlabel('Prediksi')\n",
        "    plt.ylabel('Aktual')\n",
        "    plt.title('Confusion Matrix')\n",
        "    plt.tight_layout()\n",
        "    plt.savefig(os.path.join(model_dir, 'confusion_matrix.png'))\n",
        "    plt.show()\n",
        "\n",
        "    # Classification report\n",
        "    report = classification_report(true_labels, predictions, target_names=CATEGORIES)\n",
        "    print(\"\\nClassification Report:\")\n",
        "    print(report)\n",
        "\n",
        "    return true_labels, predictions, confidences\n"
      ],
      "metadata": {
        "id": "fRJ07tFuMyYk"
      },
      "execution_count": 21,
      "outputs": []
    },
    {
      "cell_type": "code",
      "source": [
        "# Fungsi hybrid untuk prediksi gambar - menggabungkan klasifikasi dan deteksi\n",
        "def hybrid_predict(classification_model, detection_model, image_path):\n",
        "    # Load image\n",
        "    img = cv2.imread(image_path)\n",
        "    if img is None:\n",
        "        print(f\"Error: Could not load image from {image_path}\")\n",
        "        return None\n",
        "\n",
        "    img_rgb = cv2.cvtColor(img, cv2.COLOR_BGR2RGB)\n",
        "\n",
        "    # 1. Prediksi klasifikasi kebersihan (untuk prediksi bisa gunakan CPU untuk konsistensi)\n",
        "    classification_results = classification_model.predict(image_path, verbose=False)[0]\n",
        "    cleanliness_class = CATEGORIES[classification_results.probs.top1]\n",
        "    cleanliness_conf = classification_results.probs.top1conf.item() * 100\n",
        "\n",
        "    # 2. Deteksi objek\n",
        "    detection_results = detection_model.predict(image_path, verbose=False)[0]\n",
        "\n",
        "    # Get detected objects\n",
        "    detected_objects = []\n",
        "    for box in detection_results.boxes:\n",
        "        cls = int(box.cls.item())\n",
        "        conf = box.conf.item() * 100\n",
        "        label = detection_model.names[cls]\n",
        "\n",
        "        # Only include relevant objects with good confidence\n",
        "        if conf > 45 and label in ['bottle', 'cup', 'trash', 'garbage', 'bag', 'backpack', 'handbag', 'cell phone', 'laptop']:\n",
        "            detected_objects.append({\n",
        "                'label': label,\n",
        "                'confidence': conf,\n",
        "                'box': box.xyxy[0].tolist()  # Convert tensor to list\n",
        "            })\n",
        "\n",
        "    # Count trash-related objects\n",
        "    trash_count = len(detected_objects)\n",
        "\n",
        "    # Visualize results\n",
        "    plt.figure(figsize=(12, 8))\n",
        "\n",
        "    # Show image with detection boxes\n",
        "    plt.imshow(img_rgb)\n",
        "\n",
        "    # Draw bounding boxes\n",
        "    for obj in detected_objects:\n",
        "        box = obj['box']\n",
        "        label = obj['label']\n",
        "        conf = obj['confidence']\n",
        "\n",
        "        # Draw rectangle\n",
        "        rect = plt.Rectangle((box[0], box[1]), box[2]-box[0], box[3]-box[1],\n",
        "                          fill=False, edgecolor='red', linewidth=2)\n",
        "        plt.gca().add_patch(rect)\n",
        "\n",
        "        # Add label\n",
        "        plt.text(box[0], box[1]-10, f\"{label} {conf:.1f}%\",\n",
        "                 color='white', fontsize=10, backgroundcolor='red')\n",
        "\n",
        "    # Add classification result\n",
        "    title_color = 'red' if cleanliness_class == 'sangat_kotor' else 'orange' if cleanliness_class == 'sedang' else 'green'\n",
        "    plt.title(f\"Tingkat Kebersihan: {cleanliness_class} ({cleanliness_conf:.1f}%)\\nObjek Terdeteksi: {trash_count}\",\n",
        "              color=title_color, fontsize=16)\n",
        "\n",
        "    plt.axis('off')\n",
        "    plt.tight_layout()\n",
        "    plt.show()\n",
        "\n",
        "    # Print detailed results\n",
        "    print(f\"\\nHasil Klasifikasi Kebersihan:\")\n",
        "    for i, prob in enumerate(classification_results.probs.data):\n",
        "        print(f\"  {CATEGORIES[i]}: {prob*100:.2f}%\")\n",
        "\n",
        "    print(f\"\\nObjek Terdeteksi ({trash_count} total):\")\n",
        "    for i, obj in enumerate(detected_objects):\n",
        "        print(f\"  {i+1}. {obj['label']}: {obj['confidence']:.2f}%\")\n",
        "\n",
        "    # Overall analysis\n",
        "    analysis = \"\"\n",
        "    if cleanliness_class == 'sangat_kotor' and trash_count > 3:\n",
        "        analysis = \"Area ini sangat kotor dengan banyak sampah terdeteksi. Perlu pembersihan segera.\"\n",
        "    elif cleanliness_class == 'sangat_kotor' and trash_count <= 3:\n",
        "        analysis = \"Area terlihat sangat kotor, namun sedikit objek sampah terdeteksi. Mungkin ada masalah lain seperti tanah/air yang tercemar.\"\n",
        "    elif cleanliness_class == 'sedang' and trash_count > 3:\n",
        "        analysis = \"Area ini cukup bersih, namun masih banyak objek sampah terdeteksi. Perlu dibersihkan lebih lanjut.\"\n",
        "    elif cleanliness_class == 'sedang' and trash_count <= 3:\n",
        "        analysis = \"Area ini cukup bersih dengan beberapa objek sampah. Kondisi cukup baik namun masih bisa ditingkatkan.\"\n",
        "    elif cleanliness_class == 'sangat_bersih' and trash_count > 2:\n",
        "        analysis = \"Area ini terlihat bersih, namun ada beberapa objek terdeteksi. Pastikan objek tersebut bukan sampah.\"\n",
        "    else:  # sangat_bersih dan sedikit/tidak ada sampah\n",
        "        analysis = \"Area ini sangat bersih dengan sedikit/tidak ada sampah. Kondisi sangat baik.\"\n",
        "\n",
        "    print(f\"\\nAnalisis: {analysis}\")\n",
        "\n",
        "    return {\n",
        "        'cleanliness': {\n",
        "            'class': cleanliness_class,\n",
        "            'confidence': cleanliness_conf,\n",
        "            'probabilities': {CATEGORIES[i]: float(prob)*100 for i, prob in enumerate(classification_results.probs.data)}\n",
        "        },\n",
        "        'objects': detected_objects,\n",
        "        'analysis': analysis\n",
        "    }\n"
      ],
      "metadata": {
        "id": "ChCUjgwpKp3b"
      },
      "execution_count": 22,
      "outputs": []
    },
    {
      "cell_type": "code",
      "source": [
        "# Fungsi demo untuk memprediksi gambar yang diupload user\n",
        "def predict_uploaded_image(classification_model, detection_model):\n",
        "    from google.colab import files\n",
        "\n",
        "    print(\"Silahkan upload gambar lingkungan untuk diklasifikasi dan deteksi objek:\")\n",
        "    uploaded = files.upload()\n",
        "\n",
        "    for filename in uploaded.keys():\n",
        "        print(f\"\\nMemprediksi gambar: {filename}\")\n",
        "        hybrid_predict(classification_model, detection_model, filename)"
      ],
      "metadata": {
        "id": "dJeZY5uPKy-k"
      },
      "execution_count": 23,
      "outputs": []
    },
    {
      "cell_type": "code",
      "source": [
        "# Main process\n",
        "print(\"Model Hybrid: Klasifikasi Kebersihan + Object Detection (Versi GPU)\")"
      ],
      "metadata": {
        "colab": {
          "base_uri": "https://localhost:8080/"
        },
        "id": "8c0P1XuxK1VP",
        "outputId": "fbf6c380-8f80-49cf-b7e1-711899ee3316"
      },
      "execution_count": 24,
      "outputs": [
        {
          "output_type": "stream",
          "name": "stdout",
          "text": [
            "Model Hybrid: Klasifikasi Kebersihan + Object Detection (Versi GPU)\n"
          ]
        }
      ]
    },
    {
      "cell_type": "code",
      "source": [
        "# Periksa apakah dataset YOLO telah dibuat dengan benar\n",
        "if train_data and val_data and os.path.exists(dataset_yaml_path):\n",
        "    print(f\"\\nYOLO dataset successfully created at: {yolo_dataset_dir}\")\n",
        "    print(f\"Using dataset config: {dataset_yaml_path}\")\n",
        "\n",
        "    # Step 1: Hyperparameter Tuning untuk Model Klasifikasi\n",
        "    best_params = optimize_classification_model(n_trials=10, dataset_yaml=dataset_yaml_path)\n",
        "\n",
        "    # Step 2: Train Classification Model dengan parameter optimal\n",
        "    classification_model, classification_model_path = train_classification_model(best_params, dataset_yaml=dataset_yaml_path)\n",
        "\n",
        "    # Step 3: Get pre-trained Detection Model\n",
        "    detection_model, detection_model_path = get_detection_model()\n",
        "\n",
        "    # Step 4: Evaluate Classification Model\n",
        "    true_labels, predictions, confidences = evaluate_classification_model(classification_model, yolo_dataset_dir)\n",
        "\n",
        "    # Step 5: Demo Prediction\n",
        "    print(\"\\nModel sudah siap untuk memprediksi gambar baru!\")\n",
        "    predict_uploaded_image(classification_model, detection_model)\n",
        "\n",
        "    print(\"\\nProses selesai! Model hybrid telah berhasil dilatih dan dievaluasi dengan GPU.\")\n",
        "else:\n",
        "    print(\"\\nERROR: Dataset YOLO tidak dibuat dengan benar. Periksa log untuk detail lebih lanjut.\")"
      ],
      "metadata": {
        "colab": {
          "base_uri": "https://localhost:8080/",
          "height": 1000
        },
        "id": "o4Xi8RyyK5g1",
        "outputId": "530f181a-88d5-4546-ff99-879b5bab68be"
      },
      "execution_count": 25,
      "outputs": [
        {
          "output_type": "stream",
          "name": "stderr",
          "text": [
            "[I 2025-06-25 17:38:39,888] A new study created in memory with name: no-name-638ac3a8-6b72-4e88-8736-45fc2fec51ac\n"
          ]
        },
        {
          "output_type": "stream",
          "name": "stdout",
          "text": [
            "\n",
            "YOLO dataset successfully created at: /content/custom_yolo_dataset_processed\n",
            "Using dataset config: /content/custom_yolo_dataset_processed/custom_dataset.yaml\n",
            "\n",
            "Memulai hyperparameter tuning untuk model klasifikasi...\n",
            "PRO TIP 💡 Replace 'model=yolov5s.pt' with new 'model=yolov5su.pt'.\n",
            "YOLOv5 'u' models are trained with https://github.com/ultralytics/ultralytics and feature improved performance vs standard YOLOv5 models trained with https://github.com/ultralytics/yolov5.\n",
            "\n",
            "Ultralytics 8.3.159 🚀 Python-3.11.13 torch-2.6.0+cu124 CUDA:0 (Tesla T4, 15095MiB)\n",
            "\u001b[34m\u001b[1mengine/trainer: \u001b[0magnostic_nms=False, amp=True, augment=False, auto_augment=randaugment, batch=8, bgr=0.0, box=7.5, cache=False, cfg=None, classes=None, close_mosaic=10, cls=0.5, conf=None, copy_paste=0.0, copy_paste_mode=flip, cos_lr=False, cutmix=0.0, data=/content/custom_yolo_dataset_processed/custom_dataset.yaml, degrees=0.0, deterministic=True, device=0, dfl=1.5, dnn=False, dropout=0.3128979014048213, dynamic=False, embed=None, epochs=5, erasing=0.4, exist_ok=True, fliplr=0.5, flipud=0.0, format=torchscript, fraction=1.0, freeze=None, half=False, hsv_h=0.015, hsv_s=0.7, hsv_v=0.4, imgsz=640, int8=False, iou=0.7, keras=False, kobj=1.0, line_width=None, lr0=0.0007885692017729967, lrf=0.01, mask_ratio=4, max_det=300, mixup=0.0, mode=train, model=yolov5s.pt, momentum=0.937, mosaic=1.0, multi_scale=False, name=tune_trial_0, nbs=64, nms=False, opset=None, optimize=False, optimizer=Adam, overlap_mask=True, patience=3, perspective=0.0, plots=True, pose=12.0, pretrained=True, profile=False, project=/content/drive/MyDrive/deep learning/models, rect=False, resume=False, retina_masks=False, save=True, save_conf=False, save_crop=False, save_dir=/content/drive/MyDrive/deep learning/models/tune_trial_0, save_frames=False, save_json=False, save_period=-1, save_txt=False, scale=0.5, seed=0, shear=0.0, show=False, show_boxes=True, show_conf=True, show_labels=True, simplify=True, single_cls=False, source=None, split=val, stream_buffer=False, task=classify, time=None, tracker=botsort.yaml, translate=0.1, val=True, verbose=True, vid_stride=1, visualize=False, warmup_bias_lr=0.1, warmup_epochs=3.0, warmup_momentum=0.8, weight_decay=0.00031780141969659344, workers=8, workspace=None\n",
            "\n",
            "WARNING ⚠️ Dataset not found, missing path /content/custom_yolo_dataset_processed/custom_dataset.yaml, attempting download...\n",
            "Downloading https://ultralytics.com/assets/content/custom_yolo_dataset_processed/custom_dataset.yaml.zip to '/content/custom_yolo_dataset_processed/custom_dataset.yaml.zip'...\n",
            "WARNING ⚠️ Download failure, retrying 1/3 https://ultralytics.com/assets/content/custom_yolo_dataset_processed/custom_dataset.yaml.zip...\n",
            "Dataset download success ✅ (0.8s), saved to \u001b[1m/content/custom_yolo_dataset_processed/custom_dataset.yaml\u001b[0m\n",
            "\n",
            "WARNING ⚠️ Dataset 'split=train' not found at /content/custom_yolo_dataset_processed/custom_dataset.yaml/train\n",
            "ERROR ❌ No images found in /content/custom_yolo_dataset_processed/custom_dataset.yaml or its subdirectories.\n"
          ]
        },
        {
          "output_type": "stream",
          "name": "stderr",
          "text": [
            "[I 2025-06-25 17:38:41,143] Trial 0 finished with value: 0.0 and parameters: {'learning_rate': 0.0007885692017729967, 'batch_size': 8, 'img_size': 640, 'dropout_rate': 0.3128979014048213, 'weight_decay': 0.00031780141969659344}. Best is trial 0 with value: 0.0.\n"
          ]
        },
        {
          "output_type": "stream",
          "name": "stdout",
          "text": [
            "Error during trial 0: Dataset '/content/custom_yolo_dataset_processed/custom_dataset.yaml' error ❌ [Errno 20] Not a directory: '/content/custom_yolo_dataset_processed/custom_dataset.yaml/train'\n",
            "PRO TIP 💡 Replace 'model=yolov5s.pt' with new 'model=yolov5su.pt'.\n",
            "YOLOv5 'u' models are trained with https://github.com/ultralytics/ultralytics and feature improved performance vs standard YOLOv5 models trained with https://github.com/ultralytics/yolov5.\n",
            "\n",
            "Ultralytics 8.3.159 🚀 Python-3.11.13 torch-2.6.0+cu124 CUDA:0 (Tesla T4, 15095MiB)\n",
            "\u001b[34m\u001b[1mengine/trainer: \u001b[0magnostic_nms=False, amp=True, augment=False, auto_augment=randaugment, batch=8, bgr=0.0, box=7.5, cache=False, cfg=None, classes=None, close_mosaic=10, cls=0.5, conf=None, copy_paste=0.0, copy_paste_mode=flip, cos_lr=False, cutmix=0.0, data=/content/custom_yolo_dataset_processed/custom_dataset.yaml, degrees=0.0, deterministic=True, device=0, dfl=1.5, dnn=False, dropout=0.241131371165058, dynamic=False, embed=None, epochs=5, erasing=0.4, exist_ok=True, fliplr=0.5, flipud=0.0, format=torchscript, fraction=1.0, freeze=None, half=False, hsv_h=0.015, hsv_s=0.7, hsv_v=0.4, imgsz=384, int8=False, iou=0.7, keras=False, kobj=1.0, line_width=None, lr0=0.0015020742535745448, lrf=0.01, mask_ratio=4, max_det=300, mixup=0.0, mode=train, model=yolov5s.pt, momentum=0.937, mosaic=1.0, multi_scale=False, name=tune_trial_1, nbs=64, nms=False, opset=None, optimize=False, optimizer=Adam, overlap_mask=True, patience=3, perspective=0.0, plots=True, pose=12.0, pretrained=True, profile=False, project=/content/drive/MyDrive/deep learning/models, rect=False, resume=False, retina_masks=False, save=True, save_conf=False, save_crop=False, save_dir=/content/drive/MyDrive/deep learning/models/tune_trial_1, save_frames=False, save_json=False, save_period=-1, save_txt=False, scale=0.5, seed=0, shear=0.0, show=False, show_boxes=True, show_conf=True, show_labels=True, simplify=True, single_cls=False, source=None, split=val, stream_buffer=False, task=classify, time=None, tracker=botsort.yaml, translate=0.1, val=True, verbose=True, vid_stride=1, visualize=False, warmup_bias_lr=0.1, warmup_epochs=3.0, warmup_momentum=0.8, weight_decay=0.00012779730886703538, workers=8, workspace=None\n",
            "\n",
            "WARNING ⚠️ Dataset not found, missing path /content/custom_yolo_dataset_processed/custom_dataset.yaml, attempting download...\n",
            "Dataset download success ✅ (0.0s), saved to \u001b[1m/content/custom_yolo_dataset_processed/custom_dataset.yaml\u001b[0m\n",
            "\n",
            "WARNING ⚠️ Dataset 'split=train' not found at /content/custom_yolo_dataset_processed/custom_dataset.yaml/train\n",
            "ERROR ❌ No images found in /content/custom_yolo_dataset_processed/custom_dataset.yaml or its subdirectories.\n"
          ]
        },
        {
          "output_type": "stream",
          "name": "stderr",
          "text": [
            "[I 2025-06-25 17:38:41,285] Trial 1 finished with value: 0.0 and parameters: {'learning_rate': 0.0015020742535745448, 'batch_size': 8, 'img_size': 384, 'dropout_rate': 0.241131371165058, 'weight_decay': 0.00012779730886703538}. Best is trial 0 with value: 0.0.\n"
          ]
        },
        {
          "output_type": "stream",
          "name": "stdout",
          "text": [
            "Error during trial 1: Dataset '/content/custom_yolo_dataset_processed/custom_dataset.yaml' error ❌ [Errno 20] Not a directory: '/content/custom_yolo_dataset_processed/custom_dataset.yaml/train'\n",
            "PRO TIP 💡 Replace 'model=yolov5s.pt' with new 'model=yolov5su.pt'.\n",
            "YOLOv5 'u' models are trained with https://github.com/ultralytics/ultralytics and feature improved performance vs standard YOLOv5 models trained with https://github.com/ultralytics/yolov5.\n",
            "\n",
            "Ultralytics 8.3.159 🚀 Python-3.11.13 torch-2.6.0+cu124 CUDA:0 (Tesla T4, 15095MiB)\n",
            "\u001b[34m\u001b[1mengine/trainer: \u001b[0magnostic_nms=False, amp=True, augment=False, auto_augment=randaugment, batch=8, bgr=0.0, box=7.5, cache=False, cfg=None, classes=None, close_mosaic=10, cls=0.5, conf=None, copy_paste=0.0, copy_paste_mode=flip, cos_lr=False, cutmix=0.0, data=/content/custom_yolo_dataset_processed/custom_dataset.yaml, degrees=0.0, deterministic=True, device=0, dfl=1.5, dnn=False, dropout=0.4138863186711029, dynamic=False, embed=None, epochs=5, erasing=0.4, exist_ok=True, fliplr=0.5, flipud=0.0, format=torchscript, fraction=1.0, freeze=None, half=False, hsv_h=0.015, hsv_s=0.7, hsv_v=0.4, imgsz=640, int8=False, iou=0.7, keras=False, kobj=1.0, line_width=None, lr0=0.0017802363925316029, lrf=0.01, mask_ratio=4, max_det=300, mixup=0.0, mode=train, model=yolov5s.pt, momentum=0.937, mosaic=1.0, multi_scale=False, name=tune_trial_2, nbs=64, nms=False, opset=None, optimize=False, optimizer=Adam, overlap_mask=True, patience=3, perspective=0.0, plots=True, pose=12.0, pretrained=True, profile=False, project=/content/drive/MyDrive/deep learning/models, rect=False, resume=False, retina_masks=False, save=True, save_conf=False, save_crop=False, save_dir=/content/drive/MyDrive/deep learning/models/tune_trial_2, save_frames=False, save_json=False, save_period=-1, save_txt=False, scale=0.5, seed=0, shear=0.0, show=False, show_boxes=True, show_conf=True, show_labels=True, simplify=True, single_cls=False, source=None, split=val, stream_buffer=False, task=classify, time=None, tracker=botsort.yaml, translate=0.1, val=True, verbose=True, vid_stride=1, visualize=False, warmup_bias_lr=0.1, warmup_epochs=3.0, warmup_momentum=0.8, weight_decay=1.0548561519919627e-05, workers=8, workspace=None\n",
            "\n",
            "WARNING ⚠️ Dataset not found, missing path /content/custom_yolo_dataset_processed/custom_dataset.yaml, attempting download...\n",
            "Dataset download success ✅ (0.0s), saved to \u001b[1m/content/custom_yolo_dataset_processed/custom_dataset.yaml\u001b[0m\n",
            "\n",
            "WARNING ⚠️ Dataset 'split=train' not found at /content/custom_yolo_dataset_processed/custom_dataset.yaml/train\n",
            "ERROR ❌ No images found in /content/custom_yolo_dataset_processed/custom_dataset.yaml or its subdirectories.\n"
          ]
        },
        {
          "output_type": "stream",
          "name": "stderr",
          "text": [
            "[I 2025-06-25 17:38:41,447] Trial 2 finished with value: 0.0 and parameters: {'learning_rate': 0.0017802363925316029, 'batch_size': 8, 'img_size': 640, 'dropout_rate': 0.4138863186711029, 'weight_decay': 1.0548561519919627e-05}. Best is trial 0 with value: 0.0.\n"
          ]
        },
        {
          "output_type": "stream",
          "name": "stdout",
          "text": [
            "Error during trial 2: Dataset '/content/custom_yolo_dataset_processed/custom_dataset.yaml' error ❌ [Errno 20] Not a directory: '/content/custom_yolo_dataset_processed/custom_dataset.yaml/train'\n",
            "PRO TIP 💡 Replace 'model=yolov5s.pt' with new 'model=yolov5su.pt'.\n",
            "YOLOv5 'u' models are trained with https://github.com/ultralytics/ultralytics and feature improved performance vs standard YOLOv5 models trained with https://github.com/ultralytics/yolov5.\n",
            "\n",
            "Ultralytics 8.3.159 🚀 Python-3.11.13 torch-2.6.0+cu124 CUDA:0 (Tesla T4, 15095MiB)\n",
            "\u001b[34m\u001b[1mengine/trainer: \u001b[0magnostic_nms=False, amp=True, augment=False, auto_augment=randaugment, batch=32, bgr=0.0, box=7.5, cache=False, cfg=None, classes=None, close_mosaic=10, cls=0.5, conf=None, copy_paste=0.0, copy_paste_mode=flip, cos_lr=False, cutmix=0.0, data=/content/custom_yolo_dataset_processed/custom_dataset.yaml, degrees=0.0, deterministic=True, device=0, dfl=1.5, dnn=False, dropout=0.4273391740954861, dynamic=False, embed=None, epochs=5, erasing=0.4, exist_ok=True, fliplr=0.5, flipud=0.0, format=torchscript, fraction=1.0, freeze=None, half=False, hsv_h=0.015, hsv_s=0.7, hsv_v=0.4, imgsz=640, int8=False, iou=0.7, keras=False, kobj=1.0, line_width=None, lr0=0.0002749018551965559, lrf=0.01, mask_ratio=4, max_det=300, mixup=0.0, mode=train, model=yolov5s.pt, momentum=0.937, mosaic=1.0, multi_scale=False, name=tune_trial_3, nbs=64, nms=False, opset=None, optimize=False, optimizer=Adam, overlap_mask=True, patience=3, perspective=0.0, plots=True, pose=12.0, pretrained=True, profile=False, project=/content/drive/MyDrive/deep learning/models, rect=False, resume=False, retina_masks=False, save=True, save_conf=False, save_crop=False, save_dir=/content/drive/MyDrive/deep learning/models/tune_trial_3, save_frames=False, save_json=False, save_period=-1, save_txt=False, scale=0.5, seed=0, shear=0.0, show=False, show_boxes=True, show_conf=True, show_labels=True, simplify=True, single_cls=False, source=None, split=val, stream_buffer=False, task=classify, time=None, tracker=botsort.yaml, translate=0.1, val=True, verbose=True, vid_stride=1, visualize=False, warmup_bias_lr=0.1, warmup_epochs=3.0, warmup_momentum=0.8, weight_decay=0.0003983756153662587, workers=8, workspace=None\n",
            "\n",
            "WARNING ⚠️ Dataset not found, missing path /content/custom_yolo_dataset_processed/custom_dataset.yaml, attempting download...\n",
            "Dataset download success ✅ (0.0s), saved to \u001b[1m/content/custom_yolo_dataset_processed/custom_dataset.yaml\u001b[0m\n",
            "\n",
            "WARNING ⚠️ Dataset 'split=train' not found at /content/custom_yolo_dataset_processed/custom_dataset.yaml/train\n",
            "ERROR ❌ No images found in /content/custom_yolo_dataset_processed/custom_dataset.yaml or its subdirectories.\n"
          ]
        },
        {
          "output_type": "stream",
          "name": "stderr",
          "text": [
            "[I 2025-06-25 17:38:41,598] Trial 3 finished with value: 0.0 and parameters: {'learning_rate': 0.0002749018551965559, 'batch_size': 32, 'img_size': 640, 'dropout_rate': 0.4273391740954861, 'weight_decay': 0.0003983756153662587}. Best is trial 0 with value: 0.0.\n"
          ]
        },
        {
          "output_type": "stream",
          "name": "stdout",
          "text": [
            "Error during trial 3: Dataset '/content/custom_yolo_dataset_processed/custom_dataset.yaml' error ❌ [Errno 20] Not a directory: '/content/custom_yolo_dataset_processed/custom_dataset.yaml/train'\n",
            "PRO TIP 💡 Replace 'model=yolov5s.pt' with new 'model=yolov5su.pt'.\n",
            "YOLOv5 'u' models are trained with https://github.com/ultralytics/ultralytics and feature improved performance vs standard YOLOv5 models trained with https://github.com/ultralytics/yolov5.\n",
            "\n",
            "Ultralytics 8.3.159 🚀 Python-3.11.13 torch-2.6.0+cu124 CUDA:0 (Tesla T4, 15095MiB)\n",
            "\u001b[34m\u001b[1mengine/trainer: \u001b[0magnostic_nms=False, amp=True, augment=False, auto_augment=randaugment, batch=16, bgr=0.0, box=7.5, cache=False, cfg=None, classes=None, close_mosaic=10, cls=0.5, conf=None, copy_paste=0.0, copy_paste_mode=flip, cos_lr=False, cutmix=0.0, data=/content/custom_yolo_dataset_processed/custom_dataset.yaml, degrees=0.0, deterministic=True, device=0, dfl=1.5, dnn=False, dropout=0.39279500553057345, dynamic=False, embed=None, epochs=5, erasing=0.4, exist_ok=True, fliplr=0.5, flipud=0.0, format=torchscript, fraction=1.0, freeze=None, half=False, hsv_h=0.015, hsv_s=0.7, hsv_v=0.4, imgsz=384, int8=False, iou=0.7, keras=False, kobj=1.0, line_width=None, lr0=0.0010102738780130057, lrf=0.01, mask_ratio=4, max_det=300, mixup=0.0, mode=train, model=yolov5s.pt, momentum=0.937, mosaic=1.0, multi_scale=False, name=tune_trial_4, nbs=64, nms=False, opset=None, optimize=False, optimizer=Adam, overlap_mask=True, patience=3, perspective=0.0, plots=True, pose=12.0, pretrained=True, profile=False, project=/content/drive/MyDrive/deep learning/models, rect=False, resume=False, retina_masks=False, save=True, save_conf=False, save_crop=False, save_dir=/content/drive/MyDrive/deep learning/models/tune_trial_4, save_frames=False, save_json=False, save_period=-1, save_txt=False, scale=0.5, seed=0, shear=0.0, show=False, show_boxes=True, show_conf=True, show_labels=True, simplify=True, single_cls=False, source=None, split=val, stream_buffer=False, task=classify, time=None, tracker=botsort.yaml, translate=0.1, val=True, verbose=True, vid_stride=1, visualize=False, warmup_bias_lr=0.1, warmup_epochs=3.0, warmup_momentum=0.8, weight_decay=3.6049600107658804e-05, workers=8, workspace=None\n",
            "\n",
            "WARNING ⚠️ Dataset not found, missing path /content/custom_yolo_dataset_processed/custom_dataset.yaml, attempting download...\n",
            "Dataset download success ✅ (0.0s), saved to \u001b[1m/content/custom_yolo_dataset_processed/custom_dataset.yaml\u001b[0m\n",
            "\n",
            "WARNING ⚠️ Dataset 'split=train' not found at /content/custom_yolo_dataset_processed/custom_dataset.yaml/train\n",
            "ERROR ❌ No images found in /content/custom_yolo_dataset_processed/custom_dataset.yaml or its subdirectories.\n"
          ]
        },
        {
          "output_type": "stream",
          "name": "stderr",
          "text": [
            "[I 2025-06-25 17:38:41,732] Trial 4 finished with value: 0.0 and parameters: {'learning_rate': 0.0010102738780130057, 'batch_size': 16, 'img_size': 384, 'dropout_rate': 0.39279500553057345, 'weight_decay': 3.6049600107658804e-05}. Best is trial 0 with value: 0.0.\n"
          ]
        },
        {
          "output_type": "stream",
          "name": "stdout",
          "text": [
            "Error during trial 4: Dataset '/content/custom_yolo_dataset_processed/custom_dataset.yaml' error ❌ [Errno 20] Not a directory: '/content/custom_yolo_dataset_processed/custom_dataset.yaml/train'\n",
            "PRO TIP 💡 Replace 'model=yolov5s.pt' with new 'model=yolov5su.pt'.\n",
            "YOLOv5 'u' models are trained with https://github.com/ultralytics/ultralytics and feature improved performance vs standard YOLOv5 models trained with https://github.com/ultralytics/yolov5.\n",
            "\n",
            "Ultralytics 8.3.159 🚀 Python-3.11.13 torch-2.6.0+cu124 CUDA:0 (Tesla T4, 15095MiB)\n",
            "\u001b[34m\u001b[1mengine/trainer: \u001b[0magnostic_nms=False, amp=True, augment=False, auto_augment=randaugment, batch=16, bgr=0.0, box=7.5, cache=False, cfg=None, classes=None, close_mosaic=10, cls=0.5, conf=None, copy_paste=0.0, copy_paste_mode=flip, cos_lr=False, cutmix=0.0, data=/content/custom_yolo_dataset_processed/custom_dataset.yaml, degrees=0.0, deterministic=True, device=0, dfl=1.5, dnn=False, dropout=0.4722405517778699, dynamic=False, embed=None, epochs=5, erasing=0.4, exist_ok=True, fliplr=0.5, flipud=0.0, format=torchscript, fraction=1.0, freeze=None, half=False, hsv_h=0.015, hsv_s=0.7, hsv_v=0.4, imgsz=640, int8=False, iou=0.7, keras=False, kobj=1.0, line_width=None, lr0=0.0004247892353006925, lrf=0.01, mask_ratio=4, max_det=300, mixup=0.0, mode=train, model=yolov5s.pt, momentum=0.937, mosaic=1.0, multi_scale=False, name=tune_trial_5, nbs=64, nms=False, opset=None, optimize=False, optimizer=Adam, overlap_mask=True, patience=3, perspective=0.0, plots=True, pose=12.0, pretrained=True, profile=False, project=/content/drive/MyDrive/deep learning/models, rect=False, resume=False, retina_masks=False, save=True, save_conf=False, save_crop=False, save_dir=/content/drive/MyDrive/deep learning/models/tune_trial_5, save_frames=False, save_json=False, save_period=-1, save_txt=False, scale=0.5, seed=0, shear=0.0, show=False, show_boxes=True, show_conf=True, show_labels=True, simplify=True, single_cls=False, source=None, split=val, stream_buffer=False, task=classify, time=None, tracker=botsort.yaml, translate=0.1, val=True, verbose=True, vid_stride=1, visualize=False, warmup_bias_lr=0.1, warmup_epochs=3.0, warmup_momentum=0.8, weight_decay=0.00024552660385835604, workers=8, workspace=None\n",
            "\n",
            "WARNING ⚠️ Dataset not found, missing path /content/custom_yolo_dataset_processed/custom_dataset.yaml, attempting download...\n",
            "Dataset download success ✅ (0.0s), saved to \u001b[1m/content/custom_yolo_dataset_processed/custom_dataset.yaml\u001b[0m\n",
            "\n",
            "WARNING ⚠️ Dataset 'split=train' not found at /content/custom_yolo_dataset_processed/custom_dataset.yaml/train\n",
            "ERROR ❌ No images found in /content/custom_yolo_dataset_processed/custom_dataset.yaml or its subdirectories.\n"
          ]
        },
        {
          "output_type": "stream",
          "name": "stderr",
          "text": [
            "[I 2025-06-25 17:38:41,870] Trial 5 finished with value: 0.0 and parameters: {'learning_rate': 0.0004247892353006925, 'batch_size': 16, 'img_size': 640, 'dropout_rate': 0.4722405517778699, 'weight_decay': 0.00024552660385835604}. Best is trial 0 with value: 0.0.\n"
          ]
        },
        {
          "output_type": "stream",
          "name": "stdout",
          "text": [
            "Error during trial 5: Dataset '/content/custom_yolo_dataset_processed/custom_dataset.yaml' error ❌ [Errno 20] Not a directory: '/content/custom_yolo_dataset_processed/custom_dataset.yaml/train'\n",
            "PRO TIP 💡 Replace 'model=yolov5s.pt' with new 'model=yolov5su.pt'.\n",
            "YOLOv5 'u' models are trained with https://github.com/ultralytics/ultralytics and feature improved performance vs standard YOLOv5 models trained with https://github.com/ultralytics/yolov5.\n",
            "\n",
            "Ultralytics 8.3.159 🚀 Python-3.11.13 torch-2.6.0+cu124 CUDA:0 (Tesla T4, 15095MiB)\n",
            "\u001b[34m\u001b[1mengine/trainer: \u001b[0magnostic_nms=False, amp=True, augment=False, auto_augment=randaugment, batch=8, bgr=0.0, box=7.5, cache=False, cfg=None, classes=None, close_mosaic=10, cls=0.5, conf=None, copy_paste=0.0, copy_paste_mode=flip, cos_lr=False, cutmix=0.0, data=/content/custom_yolo_dataset_processed/custom_dataset.yaml, degrees=0.0, deterministic=True, device=0, dfl=1.5, dnn=False, dropout=0.4328961695330472, dynamic=False, embed=None, epochs=5, erasing=0.4, exist_ok=True, fliplr=0.5, flipud=0.0, format=torchscript, fraction=1.0, freeze=None, half=False, hsv_h=0.015, hsv_s=0.7, hsv_v=0.4, imgsz=512, int8=False, iou=0.7, keras=False, kobj=1.0, line_width=None, lr0=0.005053678460455955, lrf=0.01, mask_ratio=4, max_det=300, mixup=0.0, mode=train, model=yolov5s.pt, momentum=0.937, mosaic=1.0, multi_scale=False, name=tune_trial_6, nbs=64, nms=False, opset=None, optimize=False, optimizer=Adam, overlap_mask=True, patience=3, perspective=0.0, plots=True, pose=12.0, pretrained=True, profile=False, project=/content/drive/MyDrive/deep learning/models, rect=False, resume=False, retina_masks=False, save=True, save_conf=False, save_crop=False, save_dir=/content/drive/MyDrive/deep learning/models/tune_trial_6, save_frames=False, save_json=False, save_period=-1, save_txt=False, scale=0.5, seed=0, shear=0.0, show=False, show_boxes=True, show_conf=True, show_labels=True, simplify=True, single_cls=False, source=None, split=val, stream_buffer=False, task=classify, time=None, tracker=botsort.yaml, translate=0.1, val=True, verbose=True, vid_stride=1, visualize=False, warmup_bias_lr=0.1, warmup_epochs=3.0, warmup_momentum=0.8, weight_decay=1.455239861887078e-05, workers=8, workspace=None\n",
            "\n",
            "WARNING ⚠️ Dataset not found, missing path /content/custom_yolo_dataset_processed/custom_dataset.yaml, attempting download...\n",
            "Dataset download success ✅ (0.0s), saved to \u001b[1m/content/custom_yolo_dataset_processed/custom_dataset.yaml\u001b[0m\n",
            "\n",
            "WARNING ⚠️ Dataset 'split=train' not found at /content/custom_yolo_dataset_processed/custom_dataset.yaml/train\n",
            "ERROR ❌ No images found in /content/custom_yolo_dataset_processed/custom_dataset.yaml or its subdirectories.\n"
          ]
        },
        {
          "output_type": "stream",
          "name": "stderr",
          "text": [
            "[I 2025-06-25 17:38:42,022] Trial 6 finished with value: 0.0 and parameters: {'learning_rate': 0.005053678460455955, 'batch_size': 8, 'img_size': 512, 'dropout_rate': 0.4328961695330472, 'weight_decay': 1.455239861887078e-05}. Best is trial 0 with value: 0.0.\n"
          ]
        },
        {
          "output_type": "stream",
          "name": "stdout",
          "text": [
            "Error during trial 6: Dataset '/content/custom_yolo_dataset_processed/custom_dataset.yaml' error ❌ [Errno 20] Not a directory: '/content/custom_yolo_dataset_processed/custom_dataset.yaml/train'\n",
            "PRO TIP 💡 Replace 'model=yolov5s.pt' with new 'model=yolov5su.pt'.\n",
            "YOLOv5 'u' models are trained with https://github.com/ultralytics/ultralytics and feature improved performance vs standard YOLOv5 models trained with https://github.com/ultralytics/yolov5.\n",
            "\n",
            "Ultralytics 8.3.159 🚀 Python-3.11.13 torch-2.6.0+cu124 CUDA:0 (Tesla T4, 15095MiB)\n",
            "\u001b[34m\u001b[1mengine/trainer: \u001b[0magnostic_nms=False, amp=True, augment=False, auto_augment=randaugment, batch=32, bgr=0.0, box=7.5, cache=False, cfg=None, classes=None, close_mosaic=10, cls=0.5, conf=None, copy_paste=0.0, copy_paste_mode=flip, cos_lr=False, cutmix=0.0, data=/content/custom_yolo_dataset_processed/custom_dataset.yaml, degrees=0.0, deterministic=True, device=0, dfl=1.5, dnn=False, dropout=0.3643394878119001, dynamic=False, embed=None, epochs=5, erasing=0.4, exist_ok=True, fliplr=0.5, flipud=0.0, format=torchscript, fraction=1.0, freeze=None, half=False, hsv_h=0.015, hsv_s=0.7, hsv_v=0.4, imgsz=512, int8=False, iou=0.7, keras=False, kobj=1.0, line_width=None, lr0=0.00011612233691883185, lrf=0.01, mask_ratio=4, max_det=300, mixup=0.0, mode=train, model=yolov5s.pt, momentum=0.937, mosaic=1.0, multi_scale=False, name=tune_trial_7, nbs=64, nms=False, opset=None, optimize=False, optimizer=Adam, overlap_mask=True, patience=3, perspective=0.0, plots=True, pose=12.0, pretrained=True, profile=False, project=/content/drive/MyDrive/deep learning/models, rect=False, resume=False, retina_masks=False, save=True, save_conf=False, save_crop=False, save_dir=/content/drive/MyDrive/deep learning/models/tune_trial_7, save_frames=False, save_json=False, save_period=-1, save_txt=False, scale=0.5, seed=0, shear=0.0, show=False, show_boxes=True, show_conf=True, show_labels=True, simplify=True, single_cls=False, source=None, split=val, stream_buffer=False, task=classify, time=None, tracker=botsort.yaml, translate=0.1, val=True, verbose=True, vid_stride=1, visualize=False, warmup_bias_lr=0.1, warmup_epochs=3.0, warmup_momentum=0.8, weight_decay=1.913872612381293e-05, workers=8, workspace=None\n",
            "\n",
            "WARNING ⚠️ Dataset not found, missing path /content/custom_yolo_dataset_processed/custom_dataset.yaml, attempting download...\n",
            "Dataset download success ✅ (0.0s), saved to \u001b[1m/content/custom_yolo_dataset_processed/custom_dataset.yaml\u001b[0m\n",
            "\n",
            "WARNING ⚠️ Dataset 'split=train' not found at /content/custom_yolo_dataset_processed/custom_dataset.yaml/train\n",
            "ERROR ❌ No images found in /content/custom_yolo_dataset_processed/custom_dataset.yaml or its subdirectories.\n"
          ]
        },
        {
          "output_type": "stream",
          "name": "stderr",
          "text": [
            "[I 2025-06-25 17:38:42,160] Trial 7 finished with value: 0.0 and parameters: {'learning_rate': 0.00011612233691883185, 'batch_size': 32, 'img_size': 512, 'dropout_rate': 0.3643394878119001, 'weight_decay': 1.913872612381293e-05}. Best is trial 0 with value: 0.0.\n"
          ]
        },
        {
          "output_type": "stream",
          "name": "stdout",
          "text": [
            "Error during trial 7: Dataset '/content/custom_yolo_dataset_processed/custom_dataset.yaml' error ❌ [Errno 20] Not a directory: '/content/custom_yolo_dataset_processed/custom_dataset.yaml/train'\n",
            "PRO TIP 💡 Replace 'model=yolov5s.pt' with new 'model=yolov5su.pt'.\n",
            "YOLOv5 'u' models are trained with https://github.com/ultralytics/ultralytics and feature improved performance vs standard YOLOv5 models trained with https://github.com/ultralytics/yolov5.\n",
            "\n",
            "Ultralytics 8.3.159 🚀 Python-3.11.13 torch-2.6.0+cu124 CUDA:0 (Tesla T4, 15095MiB)\n",
            "\u001b[34m\u001b[1mengine/trainer: \u001b[0magnostic_nms=False, amp=True, augment=False, auto_augment=randaugment, batch=16, bgr=0.0, box=7.5, cache=False, cfg=None, classes=None, close_mosaic=10, cls=0.5, conf=None, copy_paste=0.0, copy_paste_mode=flip, cos_lr=False, cutmix=0.0, data=/content/custom_yolo_dataset_processed/custom_dataset.yaml, degrees=0.0, deterministic=True, device=0, dfl=1.5, dnn=False, dropout=0.40457655791408165, dynamic=False, embed=None, epochs=5, erasing=0.4, exist_ok=True, fliplr=0.5, flipud=0.0, format=torchscript, fraction=1.0, freeze=None, half=False, hsv_h=0.015, hsv_s=0.7, hsv_v=0.4, imgsz=512, int8=False, iou=0.7, keras=False, kobj=1.0, line_width=None, lr0=0.0035218796772213405, lrf=0.01, mask_ratio=4, max_det=300, mixup=0.0, mode=train, model=yolov5s.pt, momentum=0.937, mosaic=1.0, multi_scale=False, name=tune_trial_8, nbs=64, nms=False, opset=None, optimize=False, optimizer=Adam, overlap_mask=True, patience=3, perspective=0.0, plots=True, pose=12.0, pretrained=True, profile=False, project=/content/drive/MyDrive/deep learning/models, rect=False, resume=False, retina_masks=False, save=True, save_conf=False, save_crop=False, save_dir=/content/drive/MyDrive/deep learning/models/tune_trial_8, save_frames=False, save_json=False, save_period=-1, save_txt=False, scale=0.5, seed=0, shear=0.0, show=False, show_boxes=True, show_conf=True, show_labels=True, simplify=True, single_cls=False, source=None, split=val, stream_buffer=False, task=classify, time=None, tracker=botsort.yaml, translate=0.1, val=True, verbose=True, vid_stride=1, visualize=False, warmup_bias_lr=0.1, warmup_epochs=3.0, warmup_momentum=0.8, weight_decay=8.707492450638785e-05, workers=8, workspace=None\n",
            "\n",
            "WARNING ⚠️ Dataset not found, missing path /content/custom_yolo_dataset_processed/custom_dataset.yaml, attempting download...\n",
            "Dataset download success ✅ (0.0s), saved to \u001b[1m/content/custom_yolo_dataset_processed/custom_dataset.yaml\u001b[0m\n",
            "\n",
            "WARNING ⚠️ Dataset 'split=train' not found at /content/custom_yolo_dataset_processed/custom_dataset.yaml/train\n",
            "ERROR ❌ No images found in /content/custom_yolo_dataset_processed/custom_dataset.yaml or its subdirectories.\n"
          ]
        },
        {
          "output_type": "stream",
          "name": "stderr",
          "text": [
            "[I 2025-06-25 17:38:42,302] Trial 8 finished with value: 0.0 and parameters: {'learning_rate': 0.0035218796772213405, 'batch_size': 16, 'img_size': 512, 'dropout_rate': 0.40457655791408165, 'weight_decay': 8.707492450638785e-05}. Best is trial 0 with value: 0.0.\n"
          ]
        },
        {
          "output_type": "stream",
          "name": "stdout",
          "text": [
            "Error during trial 8: Dataset '/content/custom_yolo_dataset_processed/custom_dataset.yaml' error ❌ [Errno 20] Not a directory: '/content/custom_yolo_dataset_processed/custom_dataset.yaml/train'\n",
            "PRO TIP 💡 Replace 'model=yolov5s.pt' with new 'model=yolov5su.pt'.\n",
            "YOLOv5 'u' models are trained with https://github.com/ultralytics/ultralytics and feature improved performance vs standard YOLOv5 models trained with https://github.com/ultralytics/yolov5.\n",
            "\n",
            "Ultralytics 8.3.159 🚀 Python-3.11.13 torch-2.6.0+cu124 CUDA:0 (Tesla T4, 15095MiB)\n",
            "\u001b[34m\u001b[1mengine/trainer: \u001b[0magnostic_nms=False, amp=True, augment=False, auto_augment=randaugment, batch=8, bgr=0.0, box=7.5, cache=False, cfg=None, classes=None, close_mosaic=10, cls=0.5, conf=None, copy_paste=0.0, copy_paste_mode=flip, cos_lr=False, cutmix=0.0, data=/content/custom_yolo_dataset_processed/custom_dataset.yaml, degrees=0.0, deterministic=True, device=0, dfl=1.5, dnn=False, dropout=0.23348849203168534, dynamic=False, embed=None, epochs=5, erasing=0.4, exist_ok=True, fliplr=0.5, flipud=0.0, format=torchscript, fraction=1.0, freeze=None, half=False, hsv_h=0.015, hsv_s=0.7, hsv_v=0.4, imgsz=512, int8=False, iou=0.7, keras=False, kobj=1.0, line_width=None, lr0=0.0009018497509662883, lrf=0.01, mask_ratio=4, max_det=300, mixup=0.0, mode=train, model=yolov5s.pt, momentum=0.937, mosaic=1.0, multi_scale=False, name=tune_trial_9, nbs=64, nms=False, opset=None, optimize=False, optimizer=Adam, overlap_mask=True, patience=3, perspective=0.0, plots=True, pose=12.0, pretrained=True, profile=False, project=/content/drive/MyDrive/deep learning/models, rect=False, resume=False, retina_masks=False, save=True, save_conf=False, save_crop=False, save_dir=/content/drive/MyDrive/deep learning/models/tune_trial_9, save_frames=False, save_json=False, save_period=-1, save_txt=False, scale=0.5, seed=0, shear=0.0, show=False, show_boxes=True, show_conf=True, show_labels=True, simplify=True, single_cls=False, source=None, split=val, stream_buffer=False, task=classify, time=None, tracker=botsort.yaml, translate=0.1, val=True, verbose=True, vid_stride=1, visualize=False, warmup_bias_lr=0.1, warmup_epochs=3.0, warmup_momentum=0.8, weight_decay=3.6990216750907726e-05, workers=8, workspace=None\n",
            "\n",
            "WARNING ⚠️ Dataset not found, missing path /content/custom_yolo_dataset_processed/custom_dataset.yaml, attempting download...\n",
            "Dataset download success ✅ (0.0s), saved to \u001b[1m/content/custom_yolo_dataset_processed/custom_dataset.yaml\u001b[0m\n",
            "\n",
            "WARNING ⚠️ Dataset 'split=train' not found at /content/custom_yolo_dataset_processed/custom_dataset.yaml/train\n",
            "ERROR ❌ No images found in /content/custom_yolo_dataset_processed/custom_dataset.yaml or its subdirectories.\n"
          ]
        },
        {
          "output_type": "stream",
          "name": "stderr",
          "text": [
            "[I 2025-06-25 17:38:42,459] Trial 9 finished with value: 0.0 and parameters: {'learning_rate': 0.0009018497509662883, 'batch_size': 8, 'img_size': 512, 'dropout_rate': 0.23348849203168534, 'weight_decay': 3.6990216750907726e-05}. Best is trial 0 with value: 0.0.\n"
          ]
        },
        {
          "output_type": "stream",
          "name": "stdout",
          "text": [
            "Error during trial 9: Dataset '/content/custom_yolo_dataset_processed/custom_dataset.yaml' error ❌ [Errno 20] Not a directory: '/content/custom_yolo_dataset_processed/custom_dataset.yaml/train'\n",
            "\n",
            "Best hyperparameters:\n",
            "  learning_rate: 0.0007885692017729967\n",
            "  batch_size: 8\n",
            "  img_size: 640\n",
            "  dropout_rate: 0.3128979014048213\n",
            "  weight_decay: 0.00031780141969659344\n",
            "Best validation accuracy: 0.0000\n"
          ]
        },
        {
          "output_type": "display_data",
          "data": {
            "text/plain": [
              "<Figure size 1000x600 with 1 Axes>"
            ],
            "image/png": "[encoded data removed]"
          },
          "metadata": {}
        },
        {
          "output_type": "stream",
          "name": "stdout",
          "text": [
            "Could not visualize optimization results: Encountered zero total variance in all trees.\n",
            "PRO TIP 💡 Replace 'model=yolov5s.pt' with new 'model=yolov5su.pt'.\n",
            "YOLOv5 'u' models are trained with https://github.com/ultralytics/ultralytics and feature improved performance vs standard YOLOv5 models trained with https://github.com/ultralytics/yolov5.\n",
            "\n",
            "\n",
            "Menggunakan parameter hasil tuning:\n",
            "  learning_rate: 0.0007885692017729967\n",
            "  batch_size: 8\n",
            "  img_size: 640\n",
            "  dropout_rate: 0.3128979014048213\n",
            "  weight_decay: 0.00031780141969659344\n",
            "\n",
            "Training classification model dengan parameter optimal...\n",
            "Ultralytics 8.3.159 🚀 Python-3.11.13 torch-2.6.0+cu124 CUDA:0 (Tesla T4, 15095MiB)\n",
            "\u001b[34m\u001b[1mengine/trainer: \u001b[0magnostic_nms=False, amp=True, augment=False, auto_augment=randaugment, batch=8, bgr=0.0, box=7.5, cache=False, cfg=None, classes=None, close_mosaic=10, cls=0.5, conf=None, copy_paste=0.0, copy_paste_mode=flip, cos_lr=False, cutmix=0.0, data=/content/custom_yolo_dataset_processed/custom_dataset.yaml, degrees=0.0, deterministic=True, device=0, dfl=1.5, dnn=False, dropout=0.3128979014048213, dynamic=False, embed=None, epochs=30, erasing=0.4, exist_ok=True, fliplr=0.5, flipud=0.0, format=torchscript, fraction=1.0, freeze=None, half=False, hsv_h=0.015, hsv_s=0.7, hsv_v=0.4, imgsz=640, int8=False, iou=0.7, keras=False, kobj=1.0, line_width=None, lr0=0.0007885692017729967, lrf=0.01, mask_ratio=4, max_det=300, mixup=0.0, mode=train, model=yolov5s.pt, momentum=0.937, mosaic=1.0, multi_scale=False, name=classification_model, nbs=64, nms=False, opset=None, optimize=False, optimizer=Adam, overlap_mask=True, patience=10, perspective=0.0, plots=True, pose=12.0, pretrained=True, profile=False, project=/content/drive/MyDrive/deep learning/models, rect=False, resume=False, retina_masks=False, save=True, save_conf=False, save_crop=False, save_dir=/content/drive/MyDrive/deep learning/models/classification_model, save_frames=False, save_json=False, save_period=-1, save_txt=False, scale=0.5, seed=0, shear=0.0, show=False, show_boxes=True, show_conf=True, show_labels=True, simplify=True, single_cls=False, source=None, split=val, stream_buffer=False, task=classify, time=None, tracker=botsort.yaml, translate=0.1, val=True, verbose=True, vid_stride=1, visualize=False, warmup_bias_lr=0.1, warmup_epochs=3.0, warmup_momentum=0.8, weight_decay=0.00031780141969659344, workers=8, workspace=None\n",
            "\n",
            "WARNING ⚠️ Dataset not found, missing path /content/custom_yolo_dataset_processed/custom_dataset.yaml, attempting download...\n",
            "Dataset download success ✅ (0.0s), saved to \u001b[1m/content/custom_yolo_dataset_processed/custom_dataset.yaml\u001b[0m\n",
            "\n",
            "WARNING ⚠️ Dataset 'split=train' not found at /content/custom_yolo_dataset_processed/custom_dataset.yaml/train\n",
            "ERROR ❌ No images found in /content/custom_yolo_dataset_processed/custom_dataset.yaml or its subdirectories.\n"
          ]
        },
        {
          "output_type": "error",
          "ename": "RuntimeError",
          "evalue": "Dataset '/content/custom_yolo_dataset_processed/custom_dataset.yaml' error ❌ [Errno 20] Not a directory: '/content/custom_yolo_dataset_processed/custom_dataset.yaml/train'",
          "traceback": [
            "\u001b[0;31m---------------------------------------------------------------------------\u001b[0m",
            "\u001b[0;31mNotADirectoryError\u001b[0m                        Traceback (most recent call last)",
            "\u001b[0;32m/usr/local/lib/python3.11/dist-packages/ultralytics/engine/trainer.py\u001b[0m in \u001b[0;36mget_dataset\u001b[0;34m(self)\u001b[0m\n\u001b[1;32m    599\u001b[0m             \u001b[0;32mif\u001b[0m \u001b[0mself\u001b[0m\u001b[0;34m.\u001b[0m\u001b[0margs\u001b[0m\u001b[0;34m.\u001b[0m\u001b[0mtask\u001b[0m \u001b[0;34m==\u001b[0m \u001b[0;34m\"classify\"\u001b[0m\u001b[0;34m:\u001b[0m\u001b[0;34m\u001b[0m\u001b[0;34m\u001b[0m\u001b[0m\n\u001b[0;32m--> 600\u001b[0;31m                 \u001b[0mdata\u001b[0m \u001b[0;34m=\u001b[0m \u001b[0mcheck_cls_dataset\u001b[0m\u001b[0;34m(\u001b[0m\u001b[0mself\u001b[0m\u001b[0;34m.\u001b[0m\u001b[0margs\u001b[0m\u001b[0;34m.\u001b[0m\u001b[0mdata\u001b[0m\u001b[0;34m)\u001b[0m\u001b[0;34m\u001b[0m\u001b[0;34m\u001b[0m\u001b[0m\n\u001b[0m\u001b[1;32m    601\u001b[0m             elif self.args.data.rsplit(\".\", 1)[-1] in {\"yaml\", \"yml\"} or self.args.task in {\n",
            "\u001b[0;32m/usr/local/lib/python3.11/dist-packages/ultralytics/data/utils.py\u001b[0m in \u001b[0;36mcheck_cls_dataset\u001b[0;34m(dataset, split)\u001b[0m\n\u001b[1;32m    547\u001b[0m     \u001b[0mnc\u001b[0m \u001b[0;34m=\u001b[0m \u001b[0mlen\u001b[0m\u001b[0;34m(\u001b[0m\u001b[0;34m[\u001b[0m\u001b[0mx\u001b[0m \u001b[0;32mfor\u001b[0m \u001b[0mx\u001b[0m \u001b[0;32min\u001b[0m \u001b[0;34m(\u001b[0m\u001b[0mdata_dir\u001b[0m \u001b[0;34m/\u001b[0m \u001b[0;34m\"train\"\u001b[0m\u001b[0;34m)\u001b[0m\u001b[0;34m.\u001b[0m\u001b[0mglob\u001b[0m\u001b[0;34m(\u001b[0m\u001b[0;34m\"*\"\u001b[0m\u001b[0;34m)\u001b[0m \u001b[0;32mif\u001b[0m \u001b[0mx\u001b[0m\u001b[0;34m.\u001b[0m\u001b[0mis_dir\u001b[0m\u001b[0;34m(\u001b[0m\u001b[0;34m)\u001b[0m\u001b[0;34m]\u001b[0m\u001b[0;34m)\u001b[0m  \u001b[0;31m# number of classes\u001b[0m\u001b[0;34m\u001b[0m\u001b[0;34m\u001b[0m\u001b[0m\n\u001b[0;32m--> 548\u001b[0;31m     \u001b[0mnames\u001b[0m \u001b[0;34m=\u001b[0m \u001b[0;34m[\u001b[0m\u001b[0mx\u001b[0m\u001b[0;34m.\u001b[0m\u001b[0mname\u001b[0m \u001b[0;32mfor\u001b[0m \u001b[0mx\u001b[0m \u001b[0;32min\u001b[0m \u001b[0;34m(\u001b[0m\u001b[0mdata_dir\u001b[0m \u001b[0;34m/\u001b[0m \u001b[0;34m\"train\"\u001b[0m\u001b[0;34m)\u001b[0m\u001b[0;34m.\u001b[0m\u001b[0miterdir\u001b[0m\u001b[0;34m(\u001b[0m\u001b[0;34m)\u001b[0m \u001b[0;32mif\u001b[0m \u001b[0mx\u001b[0m\u001b[0;34m.\u001b[0m\u001b[0mis_dir\u001b[0m\u001b[0;34m(\u001b[0m\u001b[0;34m)\u001b[0m\u001b[0;34m]\u001b[0m  \u001b[0;31m# class names list\u001b[0m\u001b[0;34m\u001b[0m\u001b[0;34m\u001b[0m\u001b[0m\n\u001b[0m\u001b[1;32m    549\u001b[0m     \u001b[0mnames\u001b[0m \u001b[0;34m=\u001b[0m \u001b[0mdict\u001b[0m\u001b[0;34m(\u001b[0m\u001b[0menumerate\u001b[0m\u001b[0;34m(\u001b[0m\u001b[0msorted\u001b[0m\u001b[0;34m(\u001b[0m\u001b[0mnames\u001b[0m\u001b[0;34m)\u001b[0m\u001b[0;34m)\u001b[0m\u001b[0;34m)\u001b[0m\u001b[0;34m\u001b[0m\u001b[0;34m\u001b[0m\u001b[0m\n",
            "\u001b[0;32m/usr/local/lib/python3.11/dist-packages/ultralytics/data/utils.py\u001b[0m in \u001b[0;36m<listcomp>\u001b[0;34m(.0)\u001b[0m\n\u001b[1;32m    547\u001b[0m     \u001b[0mnc\u001b[0m \u001b[0;34m=\u001b[0m \u001b[0mlen\u001b[0m\u001b[0;34m(\u001b[0m\u001b[0;34m[\u001b[0m\u001b[0mx\u001b[0m \u001b[0;32mfor\u001b[0m \u001b[0mx\u001b[0m \u001b[0;32min\u001b[0m \u001b[0;34m(\u001b[0m\u001b[0mdata_dir\u001b[0m \u001b[0;34m/\u001b[0m \u001b[0;34m\"train\"\u001b[0m\u001b[0;34m)\u001b[0m\u001b[0;34m.\u001b[0m\u001b[0mglob\u001b[0m\u001b[0;34m(\u001b[0m\u001b[0;34m\"*\"\u001b[0m\u001b[0;34m)\u001b[0m \u001b[0;32mif\u001b[0m \u001b[0mx\u001b[0m\u001b[0;34m.\u001b[0m\u001b[0mis_dir\u001b[0m\u001b[0;34m(\u001b[0m\u001b[0;34m)\u001b[0m\u001b[0;34m]\u001b[0m\u001b[0;34m)\u001b[0m  \u001b[0;31m# number of classes\u001b[0m\u001b[0;34m\u001b[0m\u001b[0;34m\u001b[0m\u001b[0m\n\u001b[0;32m--> 548\u001b[0;31m     \u001b[0mnames\u001b[0m \u001b[0;34m=\u001b[0m \u001b[0;34m[\u001b[0m\u001b[0mx\u001b[0m\u001b[0;34m.\u001b[0m\u001b[0mname\u001b[0m \u001b[0;32mfor\u001b[0m \u001b[0mx\u001b[0m \u001b[0;32min\u001b[0m \u001b[0;34m(\u001b[0m\u001b[0mdata_dir\u001b[0m \u001b[0;34m/\u001b[0m \u001b[0;34m\"train\"\u001b[0m\u001b[0;34m)\u001b[0m\u001b[0;34m.\u001b[0m\u001b[0miterdir\u001b[0m\u001b[0;34m(\u001b[0m\u001b[0;34m)\u001b[0m \u001b[0;32mif\u001b[0m \u001b[0mx\u001b[0m\u001b[0;34m.\u001b[0m\u001b[0mis_dir\u001b[0m\u001b[0;34m(\u001b[0m\u001b[0;34m)\u001b[0m\u001b[0;34m]\u001b[0m  \u001b[0;31m# class names list\u001b[0m\u001b[0;34m\u001b[0m\u001b[0;34m\u001b[0m\u001b[0m\n\u001b[0m\u001b[1;32m    549\u001b[0m     \u001b[0mnames\u001b[0m \u001b[0;34m=\u001b[0m \u001b[0mdict\u001b[0m\u001b[0;34m(\u001b[0m\u001b[0menumerate\u001b[0m\u001b[0;34m(\u001b[0m\u001b[0msorted\u001b[0m\u001b[0;34m(\u001b[0m\u001b[0mnames\u001b[0m\u001b[0;34m)\u001b[0m\u001b[0;34m)\u001b[0m\u001b[0;34m)\u001b[0m\u001b[0;34m\u001b[0m\u001b[0;34m\u001b[0m\u001b[0m\n",
            "\u001b[0;32m/usr/lib/python3.11/pathlib.py\u001b[0m in \u001b[0;36miterdir\u001b[0;34m(self)\u001b[0m\n\u001b[1;32m    930\u001b[0m         \"\"\"\n\u001b[0;32m--> 931\u001b[0;31m         \u001b[0;32mfor\u001b[0m \u001b[0mname\u001b[0m \u001b[0;32min\u001b[0m \u001b[0mos\u001b[0m\u001b[0;34m.\u001b[0m\u001b[0mlistdir\u001b[0m\u001b[0;34m(\u001b[0m\u001b[0mself\u001b[0m\u001b[0;34m)\u001b[0m\u001b[0;34m:\u001b[0m\u001b[0;34m\u001b[0m\u001b[0;34m\u001b[0m\u001b[0m\n\u001b[0m\u001b[1;32m    932\u001b[0m             \u001b[0;32myield\u001b[0m \u001b[0mself\u001b[0m\u001b[0;34m.\u001b[0m\u001b[0m_make_child_relpath\u001b[0m\u001b[0;34m(\u001b[0m\u001b[0mname\u001b[0m\u001b[0;34m)\u001b[0m\u001b[0;34m\u001b[0m\u001b[0;34m\u001b[0m\u001b[0m\n",
            "\u001b[0;31mNotADirectoryError\u001b[0m: [Errno 20] Not a directory: '/content/custom_yolo_dataset_processed/custom_dataset.yaml/train'",
            "\nThe above exception was the direct cause of the following exception:\n",
            "\u001b[0;31mRuntimeError\u001b[0m                              Traceback (most recent call last)",
            "\u001b[0;32m/tmp/ipython-input-25-372622336.py\u001b[0m in \u001b[0;36m<cell line: 0>\u001b[0;34m()\u001b[0m\n\u001b[1;32m      8\u001b[0m \u001b[0;34m\u001b[0m\u001b[0m\n\u001b[1;32m      9\u001b[0m     \u001b[0;31m# Step 2: Train Classification Model dengan parameter optimal\u001b[0m\u001b[0;34m\u001b[0m\u001b[0;34m\u001b[0m\u001b[0m\n\u001b[0;32m---> 10\u001b[0;31m     \u001b[0mclassification_model\u001b[0m\u001b[0;34m,\u001b[0m \u001b[0mclassification_model_path\u001b[0m \u001b[0;34m=\u001b[0m \u001b[0mtrain_classification_model\u001b[0m\u001b[0;34m(\u001b[0m\u001b[0mbest_params\u001b[0m\u001b[0;34m,\u001b[0m \u001b[0mdataset_yaml\u001b[0m\u001b[0;34m=\u001b[0m\u001b[0mdataset_yaml_path\u001b[0m\u001b[0;34m)\u001b[0m\u001b[0;34m\u001b[0m\u001b[0;34m\u001b[0m\u001b[0m\n\u001b[0m\u001b[1;32m     11\u001b[0m \u001b[0;34m\u001b[0m\u001b[0m\n\u001b[1;32m     12\u001b[0m     \u001b[0;31m# Step 3: Get pre-trained Detection Model\u001b[0m\u001b[0;34m\u001b[0m\u001b[0;34m\u001b[0m\u001b[0m\n",
            "\u001b[0;32m/tmp/ipython-input-19-643161358.py\u001b[0m in \u001b[0;36mtrain_classification_model\u001b[0;34m(best_params, dataset_yaml)\u001b[0m\n\u001b[1;32m     44\u001b[0m     \u001b[0;31m# Start training\u001b[0m\u001b[0;34m\u001b[0m\u001b[0;34m\u001b[0m\u001b[0m\n\u001b[1;32m     45\u001b[0m     \u001b[0mprint\u001b[0m\u001b[0;34m(\u001b[0m\u001b[0;34m\"\\nTraining classification model dengan parameter optimal...\"\u001b[0m\u001b[0;34m)\u001b[0m\u001b[0;34m\u001b[0m\u001b[0;34m\u001b[0m\u001b[0m\n\u001b[0;32m---> 46\u001b[0;31m     \u001b[0mresults\u001b[0m \u001b[0;34m=\u001b[0m \u001b[0mmodel\u001b[0m\u001b[0;34m.\u001b[0m\u001b[0mtrain\u001b[0m\u001b[0;34m(\u001b[0m\u001b[0;34m**\u001b[0m\u001b[0mmodel_config\u001b[0m\u001b[0;34m)\u001b[0m\u001b[0;34m\u001b[0m\u001b[0;34m\u001b[0m\u001b[0m\n\u001b[0m\u001b[1;32m     47\u001b[0m \u001b[0;34m\u001b[0m\u001b[0m\n\u001b[1;32m     48\u001b[0m     \u001b[0;31m# Print final metrics\u001b[0m\u001b[0;34m\u001b[0m\u001b[0;34m\u001b[0m\u001b[0m\n",
            "\u001b[0;32m/usr/local/lib/python3.11/dist-packages/ultralytics/engine/model.py\u001b[0m in \u001b[0;36mtrain\u001b[0;34m(self, trainer, **kwargs)\u001b[0m\n\u001b[1;32m    789\u001b[0m             \u001b[0margs\u001b[0m\u001b[0;34m[\u001b[0m\u001b[0;34m\"resume\"\u001b[0m\u001b[0;34m]\u001b[0m \u001b[0;34m=\u001b[0m \u001b[0mself\u001b[0m\u001b[0;34m.\u001b[0m\u001b[0mckpt_path\u001b[0m\u001b[0;34m\u001b[0m\u001b[0;34m\u001b[0m\u001b[0m\n\u001b[1;32m    790\u001b[0m \u001b[0;34m\u001b[0m\u001b[0m\n\u001b[0;32m--> 791\u001b[0;31m         \u001b[0mself\u001b[0m\u001b[0;34m.\u001b[0m\u001b[0mtrainer\u001b[0m \u001b[0;34m=\u001b[0m \u001b[0;34m(\u001b[0m\u001b[0mtrainer\u001b[0m \u001b[0;32mor\u001b[0m \u001b[0mself\u001b[0m\u001b[0;34m.\u001b[0m\u001b[0m_smart_load\u001b[0m\u001b[0;34m(\u001b[0m\u001b[0;34m\"trainer\"\u001b[0m\u001b[0;34m)\u001b[0m\u001b[0;34m)\u001b[0m\u001b[0;34m(\u001b[0m\u001b[0moverrides\u001b[0m\u001b[0;34m=\u001b[0m\u001b[0margs\u001b[0m\u001b[0;34m,\u001b[0m \u001b[0m_callbacks\u001b[0m\u001b[0;34m=\u001b[0m\u001b[0mself\u001b[0m\u001b[0;34m.\u001b[0m\u001b[0mcallbacks\u001b[0m\u001b[0;34m)\u001b[0m\u001b[0;34m\u001b[0m\u001b[0;34m\u001b[0m\u001b[0m\n\u001b[0m\u001b[1;32m    792\u001b[0m         \u001b[0;32mif\u001b[0m \u001b[0;32mnot\u001b[0m \u001b[0margs\u001b[0m\u001b[0;34m.\u001b[0m\u001b[0mget\u001b[0m\u001b[0;34m(\u001b[0m\u001b[0;34m\"resume\"\u001b[0m\u001b[0;34m)\u001b[0m\u001b[0;34m:\u001b[0m  \u001b[0;31m# manually set model only if not resuming\u001b[0m\u001b[0;34m\u001b[0m\u001b[0;34m\u001b[0m\u001b[0m\n\u001b[1;32m    793\u001b[0m             \u001b[0mself\u001b[0m\u001b[0;34m.\u001b[0m\u001b[0mtrainer\u001b[0m\u001b[0;34m.\u001b[0m\u001b[0mmodel\u001b[0m \u001b[0;34m=\u001b[0m \u001b[0mself\u001b[0m\u001b[0;34m.\u001b[0m\u001b[0mtrainer\u001b[0m\u001b[0;34m.\u001b[0m\u001b[0mget_model\u001b[0m\u001b[0;34m(\u001b[0m\u001b[0mweights\u001b[0m\u001b[0;34m=\u001b[0m\u001b[0mself\u001b[0m\u001b[0;34m.\u001b[0m\u001b[0mmodel\u001b[0m \u001b[0;32mif\u001b[0m \u001b[0mself\u001b[0m\u001b[0;34m.\u001b[0m\u001b[0mckpt\u001b[0m \u001b[0;32melse\u001b[0m \u001b[0;32mNone\u001b[0m\u001b[0;34m,\u001b[0m \u001b[0mcfg\u001b[0m\u001b[0;34m=\u001b[0m\u001b[0mself\u001b[0m\u001b[0;34m.\u001b[0m\u001b[0mmodel\u001b[0m\u001b[0;34m.\u001b[0m\u001b[0myaml\u001b[0m\u001b[0;34m)\u001b[0m\u001b[0;34m\u001b[0m\u001b[0;34m\u001b[0m\u001b[0m\n",
            "\u001b[0;32m/usr/local/lib/python3.11/dist-packages/ultralytics/engine/trainer.py\u001b[0m in \u001b[0;36m__init__\u001b[0;34m(self, cfg, overrides, _callbacks)\u001b[0m\n\u001b[1;32m    151\u001b[0m         \u001b[0mself\u001b[0m\u001b[0;34m.\u001b[0m\u001b[0mmodel\u001b[0m \u001b[0;34m=\u001b[0m \u001b[0mcheck_model_file_from_stem\u001b[0m\u001b[0;34m(\u001b[0m\u001b[0mself\u001b[0m\u001b[0;34m.\u001b[0m\u001b[0margs\u001b[0m\u001b[0;34m.\u001b[0m\u001b[0mmodel\u001b[0m\u001b[0;34m)\u001b[0m  \u001b[0;31m# add suffix, i.e. yolo11n -> yolo11n.pt\u001b[0m\u001b[0;34m\u001b[0m\u001b[0;34m\u001b[0m\u001b[0m\n\u001b[1;32m    152\u001b[0m         \u001b[0;32mwith\u001b[0m \u001b[0mtorch_distributed_zero_first\u001b[0m\u001b[0;34m(\u001b[0m\u001b[0mLOCAL_RANK\u001b[0m\u001b[0;34m)\u001b[0m\u001b[0;34m:\u001b[0m  \u001b[0;31m# avoid auto-downloading dataset multiple times\u001b[0m\u001b[0;34m\u001b[0m\u001b[0;34m\u001b[0m\u001b[0m\n\u001b[0;32m--> 153\u001b[0;31m             \u001b[0mself\u001b[0m\u001b[0;34m.\u001b[0m\u001b[0mdata\u001b[0m \u001b[0;34m=\u001b[0m \u001b[0mself\u001b[0m\u001b[0;34m.\u001b[0m\u001b[0mget_dataset\u001b[0m\u001b[0;34m(\u001b[0m\u001b[0;34m)\u001b[0m\u001b[0;34m\u001b[0m\u001b[0;34m\u001b[0m\u001b[0m\n\u001b[0m\u001b[1;32m    154\u001b[0m \u001b[0;34m\u001b[0m\u001b[0m\n\u001b[1;32m    155\u001b[0m         \u001b[0mself\u001b[0m\u001b[0;34m.\u001b[0m\u001b[0mema\u001b[0m \u001b[0;34m=\u001b[0m \u001b[0;32mNone\u001b[0m\u001b[0;34m\u001b[0m\u001b[0;34m\u001b[0m\u001b[0m\n",
            "\u001b[0;32m/usr/local/lib/python3.11/dist-packages/ultralytics/engine/trainer.py\u001b[0m in \u001b[0;36mget_dataset\u001b[0;34m(self)\u001b[0m\n\u001b[1;32m    609\u001b[0m                     \u001b[0mself\u001b[0m\u001b[0;34m.\u001b[0m\u001b[0margs\u001b[0m\u001b[0;34m.\u001b[0m\u001b[0mdata\u001b[0m \u001b[0;34m=\u001b[0m \u001b[0mdata\u001b[0m\u001b[0;34m[\u001b[0m\u001b[0;34m\"yaml_file\"\u001b[0m\u001b[0;34m]\u001b[0m  \u001b[0;31m# for validating 'yolo train data=url.zip' usage\u001b[0m\u001b[0;34m\u001b[0m\u001b[0;34m\u001b[0m\u001b[0m\n\u001b[1;32m    610\u001b[0m         \u001b[0;32mexcept\u001b[0m \u001b[0mException\u001b[0m \u001b[0;32mas\u001b[0m \u001b[0me\u001b[0m\u001b[0;34m:\u001b[0m\u001b[0;34m\u001b[0m\u001b[0;34m\u001b[0m\u001b[0m\n\u001b[0;32m--> 611\u001b[0;31m             \u001b[0;32mraise\u001b[0m \u001b[0mRuntimeError\u001b[0m\u001b[0;34m(\u001b[0m\u001b[0memojis\u001b[0m\u001b[0;34m(\u001b[0m\u001b[0;34mf\"Dataset '{clean_url(self.args.data)}' error ❌ {e}\"\u001b[0m\u001b[0;34m)\u001b[0m\u001b[0;34m)\u001b[0m \u001b[0;32mfrom\u001b[0m \u001b[0me\u001b[0m\u001b[0;34m\u001b[0m\u001b[0;34m\u001b[0m\u001b[0m\n\u001b[0m\u001b[1;32m    612\u001b[0m         \u001b[0;32mif\u001b[0m \u001b[0mself\u001b[0m\u001b[0;34m.\u001b[0m\u001b[0margs\u001b[0m\u001b[0;34m.\u001b[0m\u001b[0msingle_cls\u001b[0m\u001b[0;34m:\u001b[0m\u001b[0;34m\u001b[0m\u001b[0;34m\u001b[0m\u001b[0m\n\u001b[1;32m    613\u001b[0m             \u001b[0mLOGGER\u001b[0m\u001b[0;34m.\u001b[0m\u001b[0minfo\u001b[0m\u001b[0;34m(\u001b[0m\u001b[0;34m\"Overriding class names with single class.\"\u001b[0m\u001b[0;34m)\u001b[0m\u001b[0;34m\u001b[0m\u001b[0;34m\u001b[0m\u001b[0m\n",
            "\u001b[0;31mRuntimeError\u001b[0m: Dataset '/content/custom_yolo_dataset_processed/custom_dataset.yaml' error ❌ [Errno 20] Not a directory: '/content/custom_yolo_dataset_processed/custom_dataset.yaml/train'"
          ]
        },
        {
          "output_type": "display_data",
          "data": {
            "text/plain": [
              "<Figure size 1000x600 with 0 Axes>"
            ]
          },
          "metadata": {}
        }
      ]
    }
  ]
}